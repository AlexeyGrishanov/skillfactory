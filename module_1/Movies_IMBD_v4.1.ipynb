{
 "cells": [
  {
   "cell_type": "code",
   "execution_count": 1,
   "metadata": {
    "_cell_guid": "b1076dfc-b9ad-4769-8c92-a6c4dae69d19",
    "_uuid": "8f2839f25d086af736a60e9eeb907d3b93b6e0e5",
    "colab": {},
    "colab_type": "code",
    "id": "U2D2gTdJVp90"
   },
   "outputs": [],
   "source": [
    "import numpy as np\n",
    "import pandas as pd\n",
    "import seaborn as sns\n",
    "import matplotlib.pyplot as plt\n",
    "from collections import Counter"
   ]
  },
  {
   "cell_type": "code",
   "execution_count": 2,
   "metadata": {
    "_cell_guid": "79c7e3d0-c299-4dcb-8224-4455121ee9b0",
    "_uuid": "d629ff2d2480ee46fbb7e2d37f6b5fab8052498a",
    "colab": {},
    "colab_type": "code",
    "id": "oyGfxL3eVp9-"
   },
   "outputs": [
    {
     "data": {
      "text/html": [
       "<div>\n",
       "<style scoped>\n",
       "    .dataframe tbody tr th:only-of-type {\n",
       "        vertical-align: middle;\n",
       "    }\n",
       "\n",
       "    .dataframe tbody tr th {\n",
       "        vertical-align: top;\n",
       "    }\n",
       "\n",
       "    .dataframe thead th {\n",
       "        text-align: right;\n",
       "    }\n",
       "</style>\n",
       "<table border=\"1\" class=\"dataframe\">\n",
       "  <thead>\n",
       "    <tr style=\"text-align: right;\">\n",
       "      <th></th>\n",
       "      <th>imdb_id</th>\n",
       "      <th>budget</th>\n",
       "      <th>revenue</th>\n",
       "      <th>original_title</th>\n",
       "      <th>cast</th>\n",
       "      <th>director</th>\n",
       "      <th>tagline</th>\n",
       "      <th>overview</th>\n",
       "      <th>runtime</th>\n",
       "      <th>genres</th>\n",
       "      <th>production_companies</th>\n",
       "      <th>release_date</th>\n",
       "      <th>vote_average</th>\n",
       "      <th>release_year</th>\n",
       "    </tr>\n",
       "  </thead>\n",
       "  <tbody>\n",
       "    <tr>\n",
       "      <th>94</th>\n",
       "      <td>tt2473510</td>\n",
       "      <td>10000000</td>\n",
       "      <td>78099553</td>\n",
       "      <td>Paranormal Activity: The Ghost Dimension</td>\n",
       "      <td>Chris J. Murray|Brit Shaw|Ivy George|Lauren Fr...</td>\n",
       "      <td>Gregory Plotkin</td>\n",
       "      <td>You can't save them. All you can do is watch.</td>\n",
       "      <td>Using a special camera that can see spirits, a...</td>\n",
       "      <td>88</td>\n",
       "      <td>Horror|Thriller</td>\n",
       "      <td>Paramount Pictures|Blumhouse Productions</td>\n",
       "      <td>10/21/2015</td>\n",
       "      <td>5.0</td>\n",
       "      <td>2015</td>\n",
       "    </tr>\n",
       "    <tr>\n",
       "      <th>775</th>\n",
       "      <td>tt1253864</td>\n",
       "      <td>75000000</td>\n",
       "      <td>226904017</td>\n",
       "      <td>Immortals</td>\n",
       "      <td>Mickey Rourke|Kellan Lutz|Isabel Lucas|Henry C...</td>\n",
       "      <td>Tarsem Singh</td>\n",
       "      <td>The Gods need a hero.</td>\n",
       "      <td>Theseus is a mortal man chosen by Zeus to lead...</td>\n",
       "      <td>110</td>\n",
       "      <td>Fantasy|Action|Drama</td>\n",
       "      <td>Virgin Produced|Mark Canton Productions</td>\n",
       "      <td>11/10/2011</td>\n",
       "      <td>5.6</td>\n",
       "      <td>2011</td>\n",
       "    </tr>\n",
       "    <tr>\n",
       "      <th>1345</th>\n",
       "      <td>tt0386140</td>\n",
       "      <td>75000000</td>\n",
       "      <td>142400065</td>\n",
       "      <td>The Legend of Zorro</td>\n",
       "      <td>Antonio Banderas|Catherine Zeta-Jones|AdriÃ¡n ...</td>\n",
       "      <td>Martin Campbell</td>\n",
       "      <td>This Fall, adventure begins with a Z.</td>\n",
       "      <td>In 1850, the people of California were voting ...</td>\n",
       "      <td>129</td>\n",
       "      <td>Action|Adventure|Drama|Western</td>\n",
       "      <td>Amblin Entertainment|Columbia Pictures Corpora...</td>\n",
       "      <td>10/24/2005</td>\n",
       "      <td>5.8</td>\n",
       "      <td>2005</td>\n",
       "    </tr>\n",
       "    <tr>\n",
       "      <th>1059</th>\n",
       "      <td>tt0763831</td>\n",
       "      <td>40000000</td>\n",
       "      <td>22044277</td>\n",
       "      <td>A Thousand Words</td>\n",
       "      <td>Eddie Murphy|Allison Janney|Cliff Curtis|Clark...</td>\n",
       "      <td>Brian Robbins</td>\n",
       "      <td>He only has 1000 words left to discover what m...</td>\n",
       "      <td>Jack McCall is a fast-talking literary agent, ...</td>\n",
       "      <td>91</td>\n",
       "      <td>Drama|Comedy</td>\n",
       "      <td>Paramount Pictures|DreamWorks SKG|Saturn Films...</td>\n",
       "      <td>3/7/2012</td>\n",
       "      <td>5.8</td>\n",
       "      <td>2012</td>\n",
       "    </tr>\n",
       "    <tr>\n",
       "      <th>783</th>\n",
       "      <td>tt0770703</td>\n",
       "      <td>20000000</td>\n",
       "      <td>30426096</td>\n",
       "      <td>What's Your Number?</td>\n",
       "      <td>Chris Evans|Anna Faris|Martin Freeman|Chris Pr...</td>\n",
       "      <td>Mark Mylod</td>\n",
       "      <td>Ally's looking for the best ex of her life.</td>\n",
       "      <td>Ally Darling (Anna Faris) is realizing she's a...</td>\n",
       "      <td>106</td>\n",
       "      <td>Comedy|Romance</td>\n",
       "      <td>Regency Enterprises|Contrafilm|New Regency Pic...</td>\n",
       "      <td>9/30/2011</td>\n",
       "      <td>6.2</td>\n",
       "      <td>2011</td>\n",
       "    </tr>\n",
       "  </tbody>\n",
       "</table>\n",
       "</div>"
      ],
      "text/plain": [
       "        imdb_id    budget    revenue  \\\n",
       "94    tt2473510  10000000   78099553   \n",
       "775   tt1253864  75000000  226904017   \n",
       "1345  tt0386140  75000000  142400065   \n",
       "1059  tt0763831  40000000   22044277   \n",
       "783   tt0770703  20000000   30426096   \n",
       "\n",
       "                                original_title  \\\n",
       "94    Paranormal Activity: The Ghost Dimension   \n",
       "775                                  Immortals   \n",
       "1345                       The Legend of Zorro   \n",
       "1059                          A Thousand Words   \n",
       "783                        What's Your Number?   \n",
       "\n",
       "                                                   cast         director  \\\n",
       "94    Chris J. Murray|Brit Shaw|Ivy George|Lauren Fr...  Gregory Plotkin   \n",
       "775   Mickey Rourke|Kellan Lutz|Isabel Lucas|Henry C...     Tarsem Singh   \n",
       "1345  Antonio Banderas|Catherine Zeta-Jones|AdriÃ¡n ...  Martin Campbell   \n",
       "1059  Eddie Murphy|Allison Janney|Cliff Curtis|Clark...    Brian Robbins   \n",
       "783   Chris Evans|Anna Faris|Martin Freeman|Chris Pr...       Mark Mylod   \n",
       "\n",
       "                                                tagline  \\\n",
       "94        You can't save them. All you can do is watch.   \n",
       "775                               The Gods need a hero.   \n",
       "1345              This Fall, adventure begins with a Z.   \n",
       "1059  He only has 1000 words left to discover what m...   \n",
       "783         Ally's looking for the best ex of her life.   \n",
       "\n",
       "                                               overview  runtime  \\\n",
       "94    Using a special camera that can see spirits, a...       88   \n",
       "775   Theseus is a mortal man chosen by Zeus to lead...      110   \n",
       "1345  In 1850, the people of California were voting ...      129   \n",
       "1059  Jack McCall is a fast-talking literary agent, ...       91   \n",
       "783   Ally Darling (Anna Faris) is realizing she's a...      106   \n",
       "\n",
       "                              genres  \\\n",
       "94                   Horror|Thriller   \n",
       "775             Fantasy|Action|Drama   \n",
       "1345  Action|Adventure|Drama|Western   \n",
       "1059                    Drama|Comedy   \n",
       "783                   Comedy|Romance   \n",
       "\n",
       "                                   production_companies release_date  \\\n",
       "94             Paramount Pictures|Blumhouse Productions   10/21/2015   \n",
       "775             Virgin Produced|Mark Canton Productions   11/10/2011   \n",
       "1345  Amblin Entertainment|Columbia Pictures Corpora...   10/24/2005   \n",
       "1059  Paramount Pictures|DreamWorks SKG|Saturn Films...     3/7/2012   \n",
       "783   Regency Enterprises|Contrafilm|New Regency Pic...    9/30/2011   \n",
       "\n",
       "      vote_average  release_year  \n",
       "94             5.0          2015  \n",
       "775            5.6          2011  \n",
       "1345           5.8          2005  \n",
       "1059           5.8          2012  \n",
       "783            6.2          2011  "
      ]
     },
     "execution_count": 2,
     "metadata": {},
     "output_type": "execute_result"
    }
   ],
   "source": [
    "data = pd.read_csv('D:\\\\movie_bd_v5.csv')\n",
    "data.sample(5)"
   ]
  },
  {
   "cell_type": "code",
   "execution_count": 235,
   "metadata": {
    "colab": {},
    "colab_type": "code",
    "id": "CoYUnagMVp-C"
   },
   "outputs": [
    {
     "data": {
      "text/html": [
       "<div>\n",
       "<style scoped>\n",
       "    .dataframe tbody tr th:only-of-type {\n",
       "        vertical-align: middle;\n",
       "    }\n",
       "\n",
       "    .dataframe tbody tr th {\n",
       "        vertical-align: top;\n",
       "    }\n",
       "\n",
       "    .dataframe thead th {\n",
       "        text-align: right;\n",
       "    }\n",
       "</style>\n",
       "<table border=\"1\" class=\"dataframe\">\n",
       "  <thead>\n",
       "    <tr style=\"text-align: right;\">\n",
       "      <th></th>\n",
       "      <th>budget</th>\n",
       "      <th>revenue</th>\n",
       "      <th>runtime</th>\n",
       "      <th>vote_average</th>\n",
       "      <th>release_year</th>\n",
       "    </tr>\n",
       "  </thead>\n",
       "  <tbody>\n",
       "    <tr>\n",
       "      <th>count</th>\n",
       "      <td>1.889000e+03</td>\n",
       "      <td>1.889000e+03</td>\n",
       "      <td>1889.000000</td>\n",
       "      <td>1889.000000</td>\n",
       "      <td>1889.000000</td>\n",
       "    </tr>\n",
       "    <tr>\n",
       "      <th>mean</th>\n",
       "      <td>5.431083e+07</td>\n",
       "      <td>1.553653e+08</td>\n",
       "      <td>109.658549</td>\n",
       "      <td>6.140762</td>\n",
       "      <td>2007.860773</td>\n",
       "    </tr>\n",
       "    <tr>\n",
       "      <th>std</th>\n",
       "      <td>4.858721e+07</td>\n",
       "      <td>2.146698e+08</td>\n",
       "      <td>18.017041</td>\n",
       "      <td>0.764763</td>\n",
       "      <td>4.468841</td>\n",
       "    </tr>\n",
       "    <tr>\n",
       "      <th>min</th>\n",
       "      <td>5.000000e+06</td>\n",
       "      <td>2.033165e+06</td>\n",
       "      <td>63.000000</td>\n",
       "      <td>3.300000</td>\n",
       "      <td>2000.000000</td>\n",
       "    </tr>\n",
       "    <tr>\n",
       "      <th>25%</th>\n",
       "      <td>2.000000e+07</td>\n",
       "      <td>3.456058e+07</td>\n",
       "      <td>97.000000</td>\n",
       "      <td>5.600000</td>\n",
       "      <td>2004.000000</td>\n",
       "    </tr>\n",
       "    <tr>\n",
       "      <th>50%</th>\n",
       "      <td>3.800000e+07</td>\n",
       "      <td>8.361541e+07</td>\n",
       "      <td>107.000000</td>\n",
       "      <td>6.100000</td>\n",
       "      <td>2008.000000</td>\n",
       "    </tr>\n",
       "    <tr>\n",
       "      <th>75%</th>\n",
       "      <td>7.200000e+07</td>\n",
       "      <td>1.782626e+08</td>\n",
       "      <td>120.000000</td>\n",
       "      <td>6.600000</td>\n",
       "      <td>2012.000000</td>\n",
       "    </tr>\n",
       "    <tr>\n",
       "      <th>max</th>\n",
       "      <td>3.800000e+08</td>\n",
       "      <td>2.781506e+09</td>\n",
       "      <td>214.000000</td>\n",
       "      <td>8.100000</td>\n",
       "      <td>2015.000000</td>\n",
       "    </tr>\n",
       "  </tbody>\n",
       "</table>\n",
       "</div>"
      ],
      "text/plain": [
       "             budget       revenue      runtime  vote_average  release_year\n",
       "count  1.889000e+03  1.889000e+03  1889.000000   1889.000000   1889.000000\n",
       "mean   5.431083e+07  1.553653e+08   109.658549      6.140762   2007.860773\n",
       "std    4.858721e+07  2.146698e+08    18.017041      0.764763      4.468841\n",
       "min    5.000000e+06  2.033165e+06    63.000000      3.300000   2000.000000\n",
       "25%    2.000000e+07  3.456058e+07    97.000000      5.600000   2004.000000\n",
       "50%    3.800000e+07  8.361541e+07   107.000000      6.100000   2008.000000\n",
       "75%    7.200000e+07  1.782626e+08   120.000000      6.600000   2012.000000\n",
       "max    3.800000e+08  2.781506e+09   214.000000      8.100000   2015.000000"
      ]
     },
     "execution_count": 235,
     "metadata": {},
     "output_type": "execute_result"
    }
   ],
   "source": [
    "data.describe()"
   ]
  },
  {
   "cell_type": "markdown",
   "metadata": {
    "colab_type": "text",
    "id": "DTIt7ezGVp-G"
   },
   "source": [
    "# Предобработка"
   ]
  },
  {
   "cell_type": "code",
   "execution_count": 9,
   "metadata": {
    "colab": {},
    "colab_type": "code",
    "id": "jNb40DwKVp-H"
   },
   "outputs": [],
   "source": [
    "answers = {}  # создадим словарь для ответов\n",
    "\n",
    "# тут другие ваши предобработки колонок например:\n",
    "\n",
    "#the time given in the dataset is in string format.\n",
    "#So we need to change this in datetime format\n",
    "# ...\n",
    "data['profit'] = data.revenue - data.budget  # profit calculation\n",
    "data['release_month'] = pd.to_datetime(data.release_date).dt.month  # release month calculation\n",
    "data['title'] = data.original_title + ' (' + data.imdb_id + ')' # имя фильма с номером"
   ]
  },
  {
   "cell_type": "markdown",
   "metadata": {
    "colab_type": "text",
    "id": "YxZaH-nPVp-L"
   },
   "source": [
    "# 1. У какого фильма из списка самый большой бюджет?"
   ]
  },
  {
   "cell_type": "markdown",
   "metadata": {
    "colab_type": "text",
    "id": "Nd-G5gX6Vp-M"
   },
   "source": [
    "Использовать варианты ответов в коде решения запрещено.    \n",
    "Вы думаете и в жизни у вас будут варианты ответов?)"
   ]
  },
  {
   "cell_type": "code",
   "execution_count": 10,
   "metadata": {
    "colab": {},
    "colab_type": "code",
    "id": "dZwb3m28Vp-S"
   },
   "outputs": [
    {
     "data": {
      "text/plain": [
       "723    Pirates of the Caribbean: On Stranger Tides (t...\n",
       "Name: title, dtype: object"
      ]
     },
     "execution_count": 10,
     "metadata": {},
     "output_type": "execute_result"
    }
   ],
   "source": [
    "answers['1'] = data[data.budget == data.budget.max()].title\n",
    "answers['1']"
   ]
  },
  {
   "cell_type": "markdown",
   "metadata": {
    "colab_type": "text",
    "id": "FNRbbI3vVp-c"
   },
   "source": [
    "# 2. Какой из фильмов самый длительный (в минутах)?"
   ]
  },
  {
   "cell_type": "code",
   "execution_count": 11,
   "metadata": {
    "colab": {},
    "colab_type": "code",
    "id": "ot-VX2XrVp-g"
   },
   "outputs": [
    {
     "data": {
      "text/plain": [
       "1157    Gods and Generals (tt0279111)\n",
       "Name: title, dtype: object"
      ]
     },
     "execution_count": 11,
     "metadata": {},
     "output_type": "execute_result"
    }
   ],
   "source": [
    "answers['2'] = data[data.runtime == data.runtime.max()].title\n",
    "answers['2']"
   ]
  },
  {
   "cell_type": "markdown",
   "metadata": {
    "colab_type": "text",
    "id": "bapLlpW8Vp-k"
   },
   "source": [
    "# 3. Какой из фильмов самый короткий (в минутах)?\n",
    "\n",
    "\n",
    "\n"
   ]
  },
  {
   "cell_type": "code",
   "execution_count": 12,
   "metadata": {
    "colab": {},
    "colab_type": "code",
    "id": "YBxaSHuAVp-l"
   },
   "outputs": [
    {
     "data": {
      "text/plain": [
       "768    Winnie the Pooh (tt1449283)\n",
       "Name: title, dtype: object"
      ]
     },
     "execution_count": 12,
     "metadata": {},
     "output_type": "execute_result"
    }
   ],
   "source": [
    "answers['3'] = data[data.runtime == data.runtime.min()].title\n",
    "answers['3']"
   ]
  },
  {
   "cell_type": "markdown",
   "metadata": {
    "colab_type": "text",
    "id": "TfQbxbfNVp-p"
   },
   "source": [
    "# 4. Какова средняя длительность фильмов?\n"
   ]
  },
  {
   "cell_type": "code",
   "execution_count": 13,
   "metadata": {},
   "outputs": [
    {
     "data": {
      "text/plain": [
       "110"
      ]
     },
     "execution_count": 13,
     "metadata": {},
     "output_type": "execute_result"
    }
   ],
   "source": [
    "answers['4'] = round(data.runtime.mean())\n",
    "answers['4']"
   ]
  },
  {
   "cell_type": "markdown",
   "metadata": {
    "colab_type": "text",
    "id": "r5TvbnT_Vp-u"
   },
   "source": [
    "# 5. Каково медианное значение длительности фильмов? "
   ]
  },
  {
   "cell_type": "code",
   "execution_count": 14,
   "metadata": {},
   "outputs": [
    {
     "data": {
      "text/plain": [
       "107"
      ]
     },
     "execution_count": 14,
     "metadata": {},
     "output_type": "execute_result"
    }
   ],
   "source": [
    "answers['5'] = round(data.runtime.median())\n",
    "answers['5']"
   ]
  },
  {
   "cell_type": "markdown",
   "metadata": {
    "colab_type": "text",
    "id": "39P-deDSVp-y"
   },
   "source": [
    "# 6. Какой самый прибыльный фильм?\n",
    "#### Внимание! Здесь и далее под «прибылью» или «убытками» понимается разность между сборами и бюджетом фильма. (прибыль = сборы - бюджет) в нашем датасете это будет (profit = revenue - budget) "
   ]
  },
  {
   "cell_type": "code",
   "execution_count": 15,
   "metadata": {
    "colab": {},
    "colab_type": "code",
    "id": "UYZh4T9WVp-y",
    "scrolled": true
   },
   "outputs": [
    {
     "data": {
      "text/plain": [
       "239    Avatar (tt0499549)\n",
       "Name: title, dtype: object"
      ]
     },
     "execution_count": 15,
     "metadata": {},
     "output_type": "execute_result"
    }
   ],
   "source": [
    "# код получения столбца profit вынесен в Предобработку что в начале\n",
    "answers['6'] = data[data.profit == data.profit.max()].title\n",
    "answers['6']"
   ]
  },
  {
   "cell_type": "markdown",
   "metadata": {
    "colab_type": "text",
    "id": "M99JmIX4Vp-2"
   },
   "source": [
    "# 7. Какой фильм самый убыточный? "
   ]
  },
  {
   "cell_type": "code",
   "execution_count": 16,
   "metadata": {
    "colab": {},
    "colab_type": "code",
    "id": "w-D2m4XPVp-3"
   },
   "outputs": [
    {
     "data": {
      "text/plain": [
       "1245    The Lone Ranger (tt1210819)\n",
       "Name: title, dtype: object"
      ]
     },
     "execution_count": 16,
     "metadata": {},
     "output_type": "execute_result"
    }
   ],
   "source": [
    "# код получения столбца profit вынесен в Предобработку что в начале\n",
    "answers['7'] = data[data.profit == data.profit.min()].title\n",
    "answers['7']"
   ]
  },
  {
   "cell_type": "markdown",
   "metadata": {
    "colab_type": "text",
    "id": "wEOM5ERVVp-6"
   },
   "source": [
    "# 8. У скольких фильмов из датасета объем сборов оказался выше бюджета?"
   ]
  },
  {
   "cell_type": "code",
   "execution_count": 17,
   "metadata": {
    "colab": {},
    "colab_type": "code",
    "id": "y00_7HD6Vp-7"
   },
   "outputs": [
    {
     "data": {
      "text/plain": [
       "1478"
      ]
     },
     "execution_count": 17,
     "metadata": {},
     "output_type": "execute_result"
    }
   ],
   "source": [
    "answers['8'] = len(data[data.profit > 0])\n",
    "answers['8']"
   ]
  },
  {
   "cell_type": "markdown",
   "metadata": {
    "colab_type": "text",
    "id": "xhpspA9KVp_A"
   },
   "source": [
    "# 9. Какой фильм оказался самым кассовым в 2008 году?"
   ]
  },
  {
   "cell_type": "code",
   "execution_count": 18,
   "metadata": {
    "colab": {},
    "colab_type": "code",
    "id": "MoUyQr9RVp_B"
   },
   "outputs": [
    {
     "data": {
      "text/plain": [
       "599    The Dark Knight (tt0468569)\n",
       "Name: title, dtype: object"
      ]
     },
     "execution_count": 18,
     "metadata": {},
     "output_type": "execute_result"
    }
   ],
   "source": [
    "answers['9'] = data[data.release_year == 2008].sort_values('profit',ascending=False).title.head(1)\n",
    "answers['9']"
   ]
  },
  {
   "cell_type": "markdown",
   "metadata": {
    "colab_type": "text",
    "id": "Zi4hDKidVp_F"
   },
   "source": [
    "# 10. Самый убыточный фильм за период с 2012 по 2014 г. (включительно)?\n"
   ]
  },
  {
   "cell_type": "code",
   "execution_count": 19,
   "metadata": {
    "colab": {},
    "colab_type": "code",
    "id": "XqyRmufJVp_F"
   },
   "outputs": [
    {
     "data": {
      "text/plain": [
       "1245    The Lone Ranger (tt1210819)\n",
       "Name: title, dtype: object"
      ]
     },
     "execution_count": 19,
     "metadata": {},
     "output_type": "execute_result"
    }
   ],
   "source": [
    "answers['10'] = data[(data.release_year >= 2012) & (data.release_year <= 2014)].sort_values('profit',ascending=True).title.head(1)\n",
    "answers['10']"
   ]
  },
  {
   "cell_type": "markdown",
   "metadata": {
    "colab_type": "text",
    "id": "EA7Sa9dkVp_I"
   },
   "source": [
    "# 11. Какого жанра фильмов больше всего?"
   ]
  },
  {
   "cell_type": "code",
   "execution_count": 20,
   "metadata": {
    "colab": {},
    "colab_type": "code",
    "id": "zsJAwJ8QVp_J"
   },
   "outputs": [
    {
     "data": {
      "text/plain": [
       "'Drama'"
      ]
     },
     "execution_count": 20,
     "metadata": {},
     "output_type": "execute_result"
    }
   ],
   "source": [
    "# Вариант 1\n",
    "answers['11'] = data.genres.str.split('|', expand=True).stack().value_counts().index[0]\n",
    "answers['11']"
   ]
  },
  {
   "cell_type": "code",
   "execution_count": 21,
   "metadata": {
    "colab": {},
    "colab_type": "code",
    "id": "otO3SbrSVp_N"
   },
   "outputs": [
    {
     "data": {
      "text/plain": [
       "'Drama'"
      ]
     },
     "execution_count": 21,
     "metadata": {},
     "output_type": "execute_result"
    }
   ],
   "source": [
    "# Вариант 2\n",
    "genres = data.genres.str.split('|')  # преобразовываем жанры в списки\n",
    "genres = genres.explode()  # разворачиваем списки жанров\n",
    "\n",
    "answers['11'] = genres.value_counts().index[0]\n",
    "answers['11']"
   ]
  },
  {
   "cell_type": "markdown",
   "metadata": {
    "colab_type": "text",
    "id": "T9_bPWpkVp_Q"
   },
   "source": [
    "# 12. Фильмы какого жанра чаще всего становятся прибыльными? "
   ]
  },
  {
   "cell_type": "code",
   "execution_count": 22,
   "metadata": {
    "colab": {},
    "colab_type": "code",
    "id": "Tmt8MaK1Vp_R"
   },
   "outputs": [
    {
     "data": {
      "text/plain": [
       "'Drama'"
      ]
     },
     "execution_count": 22,
     "metadata": {},
     "output_type": "execute_result"
    }
   ],
   "source": [
    "dt_profit = data[data.profit > 0].copy()  # выбираем из дф фильмы с положительным профитом\n",
    "dt_profit.genres = dt_profit.genres.str.split('|')  # преобразовываем жанры в списки\n",
    "genre_profit = dt_profit.explode('genres').genres  # разворачиваем списки жанров и получаем серию жанров\n",
    "\n",
    "answers['12'] = genre_profit.value_counts().sort_values(ascending=False).index[0]\n",
    "answers['12']"
   ]
  },
  {
   "cell_type": "markdown",
   "metadata": {
    "colab_type": "text",
    "id": "0F23bgsDVp_U"
   },
   "source": [
    "# 13. У какого режиссера самые большие суммарные кассовые сборы?"
   ]
  },
  {
   "cell_type": "code",
   "execution_count": 23,
   "metadata": {
    "colab": {},
    "colab_type": "code",
    "id": "K6Z3J8ygVp_X"
   },
   "outputs": [
    {
     "data": {
      "text/plain": [
       "'Peter Jackson'"
      ]
     },
     "execution_count": 23,
     "metadata": {},
     "output_type": "execute_result"
    }
   ],
   "source": [
    "dt_revenue_by_director = data.copy()  # копирем DataFrame для дальнейшей обработки\n",
    "dt_revenue_by_director.director = dt_revenue_by_director.director.str.split('|')  # преобразовываем режиссеров в списки\n",
    "dt_revenue_by_director = dt_revenue_by_director.explode(\"director\")  # разворачиваем DataFrame по спискам режиссеров\n",
    "\n",
    "answers['13'] = dt_revenue_by_director.groupby('director').revenue.sum().sort_values(ascending=False).index[0]\n",
    "answers['13']"
   ]
  },
  {
   "cell_type": "markdown",
   "metadata": {
    "colab_type": "text",
    "id": "PsYC9FgRVp_a"
   },
   "source": [
    "# 14. Какой режисер снял больше всего фильмов в стиле Action?"
   ]
  },
  {
   "cell_type": "code",
   "execution_count": 24,
   "metadata": {
    "colab": {},
    "colab_type": "code",
    "id": "wd2M-wHeVp_b"
   },
   "outputs": [
    {
     "data": {
      "text/plain": [
       "'Robert Rodriguez'"
      ]
     },
     "execution_count": 24,
     "metadata": {},
     "output_type": "execute_result"
    }
   ],
   "source": [
    "dt_director = data[data.genres.str.contains('Action')].copy()  # фильтруем и копирем DataFrame для дальнейшей обработки\n",
    "dt_director.genres = dt_director.genres.str.split('|')  # преобразовываем жанры в списки\n",
    "dt_director = dt_director.explode(\"genres\")  # разворачиваем DataFrame по спискам жанров\n",
    "dt_director.director = dt_director.director.str.split('|')  # преобразовываем режиссеров в списки\n",
    "directors = dt_director.explode(\"director\").director  # разворачиваем списки режиссеров и получаем серию режиссеров\n",
    "\n",
    "answers['14'] = directors.value_counts().sort_values(ascending=False).index[0]\n",
    "answers['14']"
   ]
  },
  {
   "cell_type": "markdown",
   "metadata": {
    "colab_type": "text",
    "id": "PQ0KciD7Vp_f"
   },
   "source": [
    "# 15. Фильмы с каким актером принесли самые высокие кассовые сборы в 2012 году? "
   ]
  },
  {
   "cell_type": "code",
   "execution_count": 25,
   "metadata": {
    "colab": {},
    "colab_type": "code",
    "id": "aga62oeKVp_g"
   },
   "outputs": [
    {
     "data": {
      "text/plain": [
       "'Chris Hemsworth'"
      ]
     },
     "execution_count": 25,
     "metadata": {},
     "output_type": "execute_result"
    }
   ],
   "source": [
    "dt_cast = data[data.release_year == 2012].copy()  # фильтруем и копирем DataFrame для дальнейшей обработки\n",
    "dt_cast.cast = dt_cast.cast.str.split('|')  # преобразовываем актеров в списки актеров\n",
    "dt_cast = dt_cast.explode(\"cast\") # разворачиваем DataFrame по спискам актеров\n",
    "\n",
    "answers['15'] = dt_cast.groupby('cast').revenue.sum().sort_values(ascending=False).index[0]\n",
    "answers['15']"
   ]
  },
  {
   "cell_type": "markdown",
   "metadata": {
    "colab_type": "text",
    "id": "mWHyyL7QVp_j"
   },
   "source": [
    "# 16. Какой актер снялся в большем количестве высокобюджетных фильмов?"
   ]
  },
  {
   "cell_type": "code",
   "execution_count": 26,
   "metadata": {
    "colab": {},
    "colab_type": "code",
    "id": "qQtmHKTFVp_k"
   },
   "outputs": [
    {
     "data": {
      "text/plain": [
       "'Matt Damon'"
      ]
     },
     "execution_count": 26,
     "metadata": {},
     "output_type": "execute_result"
    }
   ],
   "source": [
    "dt_cast = data[data.budget > data.budget.mean()].copy()  # фильтруем и копирем DataFrame для дальнейшей обработки\n",
    "dt_cast.cast = dt_cast.cast.str.split('|')   # преобразовываем актеров в списки актеров\n",
    "casts = dt_cast.explode(\"cast\").cast # разворачиваем DataFrame по спискам актеров и получаем серию актеров\n",
    "\n",
    "answers['16'] = casts.value_counts().sort_values(ascending=False).index[0]\n",
    "answers['16']"
   ]
  },
  {
   "cell_type": "markdown",
   "metadata": {
    "colab_type": "text",
    "id": "NIh6AaW5Vp_n"
   },
   "source": [
    "# 17. В фильмах какого жанра больше всего снимался Nicolas Cage? "
   ]
  },
  {
   "cell_type": "code",
   "execution_count": 27,
   "metadata": {
    "colab": {},
    "colab_type": "code",
    "id": "H74SJDIBVp_n"
   },
   "outputs": [
    {
     "data": {
      "text/plain": [
       "'Action'"
      ]
     },
     "execution_count": 27,
     "metadata": {},
     "output_type": "execute_result"
    }
   ],
   "source": [
    "dt_cast = data[data.cast.str.contains('Nicolas Cage')].copy()  # фильтруем и копирем DataFrame для дальнейшей обработки\n",
    "dt_cast.cast = dt_cast.cast.str.split('|')  # преобразовываем актеров в списки актеров\n",
    "dt_cast = dt_cast.explode(\"cast\")  # разворачиваем DataFrame по спискам актеров\n",
    "\n",
    "dt_cast.genres = dt_cast.genres.str.split('|')  # преобразовываем жанры в списки жанров\n",
    "genres = dt_cast.explode(\"genres\").genres  # разворачиваем DataFrame по спискам жанров и получаем серию жанров\n",
    "\n",
    "answers['17'] = genres.value_counts().sort_values(ascending=False).index[0]\n",
    "answers['17']"
   ]
  },
  {
   "cell_type": "markdown",
   "metadata": {
    "colab_type": "text",
    "id": "RqOmPRfWVp_q"
   },
   "source": [
    "# 18. Самый убыточный фильм от Paramount Pictures"
   ]
  },
  {
   "cell_type": "code",
   "execution_count": 28,
   "metadata": {
    "colab": {},
    "colab_type": "code",
    "id": "9E_B0Y96Vp_r"
   },
   "outputs": [
    {
     "data": {
      "text/plain": [
       "'K-19: The Widowmaker (tt0267626)'"
      ]
     },
     "execution_count": 28,
     "metadata": {},
     "output_type": "execute_result"
    }
   ],
   "source": [
    "dt_film = data[data.production_companies.str.contains('Paramount Pictures')].copy()  # фильтруем и копирем DataFrame\n",
    "\n",
    "answers['18'] = dt_film.groupby('title').profit.sum().sort_values(ascending=True).index[0]\n",
    "answers['18']"
   ]
  },
  {
   "cell_type": "markdown",
   "metadata": {
    "colab_type": "text",
    "id": "vS8Ur6ddVp_u"
   },
   "source": [
    "# 19. Какой год стал самым успешным по суммарным кассовым сборам?"
   ]
  },
  {
   "cell_type": "code",
   "execution_count": 29,
   "metadata": {
    "colab": {},
    "colab_type": "code",
    "id": "Dnbt4GdIVp_v"
   },
   "outputs": [
    {
     "data": {
      "text/plain": [
       "2015"
      ]
     },
     "execution_count": 29,
     "metadata": {},
     "output_type": "execute_result"
    }
   ],
   "source": [
    "answers['19'] = data.groupby('release_year').revenue.sum().sort_values(ascending=False).index[0]\n",
    "answers['19']"
   ]
  },
  {
   "cell_type": "markdown",
   "metadata": {
    "colab_type": "text",
    "id": "JAzJh4QAVp_z"
   },
   "source": [
    "# 20. Какой самый прибыльный год для студии Warner Bros?"
   ]
  },
  {
   "cell_type": "code",
   "execution_count": 30,
   "metadata": {
    "colab": {},
    "colab_type": "code",
    "id": "wgVu02DEVp_0"
   },
   "outputs": [
    {
     "data": {
      "text/plain": [
       "2014"
      ]
     },
     "execution_count": 30,
     "metadata": {},
     "output_type": "execute_result"
    }
   ],
   "source": [
    "dt_year = data[data.production_companies.str.contains('Warner Bros')]  # фильтруем DataFrame\n",
    "\n",
    "answers['20'] = dt_year.groupby('release_year').profit.sum().sort_values(ascending=False).index[0]\n",
    "answers['20']"
   ]
  },
  {
   "cell_type": "markdown",
   "metadata": {
    "colab_type": "text",
    "id": "8Im1S2HRVp_4"
   },
   "source": [
    "# 21. В каком месяце за все годы суммарно вышло больше всего фильмов?"
   ]
  },
  {
   "cell_type": "code",
   "execution_count": 31,
   "metadata": {
    "colab": {},
    "colab_type": "code",
    "id": "lev6TH7gVp_4"
   },
   "outputs": [
    {
     "data": {
      "text/plain": [
       "9"
      ]
     },
     "execution_count": 31,
     "metadata": {},
     "output_type": "execute_result"
    }
   ],
   "source": [
    "answers['21'] = data.release_month.value_counts().sort_values(ascending=False).index[0]\n",
    "answers['21']"
   ]
  },
  {
   "cell_type": "markdown",
   "metadata": {
    "colab_type": "text",
    "id": "uAJsZ_NeVp_7"
   },
   "source": [
    "# 22. Сколько суммарно вышло фильмов летом? (за июнь, июль, август)"
   ]
  },
  {
   "cell_type": "code",
   "execution_count": 59,
   "metadata": {
    "colab": {},
    "colab_type": "code",
    "id": "Aa-hEREoVp_8"
   },
   "outputs": [
    {
     "data": {
      "text/plain": [
       "450"
      ]
     },
     "execution_count": 59,
     "metadata": {},
     "output_type": "execute_result"
    }
   ],
   "source": [
    "answers['22'] = len(data[data.release_month.isin([6,7,8])])  # выбираем только летние месяцы\n",
    "answers['22']"
   ]
  },
  {
   "cell_type": "markdown",
   "metadata": {
    "colab_type": "text",
    "id": "G94ppOY1VqAA"
   },
   "source": [
    "# 23. Для какого режиссера зима – самое продуктивное время года? "
   ]
  },
  {
   "cell_type": "code",
   "execution_count": 32,
   "metadata": {
    "colab": {},
    "colab_type": "code",
    "id": "RhNTsamuVqAB"
   },
   "outputs": [
    {
     "data": {
      "text/plain": [
       "'Peter Jackson'"
      ]
     },
     "execution_count": 32,
     "metadata": {},
     "output_type": "execute_result"
    }
   ],
   "source": [
    "dt_director = data[data.release_month.isin([1,2,12])].copy()  # выбираем только зимние месяцы\n",
    "dt_director.director = dt_director.director.str.split('|')  # преобразовываем режиссеров в списки режиссеров\n",
    "directors = dt_director.explode(\"director\").director  # разворачиваем по спискам режиссеров и получаем серию режиссеров\n",
    "\n",
    "answers['23'] = directors.value_counts().sort_values(ascending=False).index[0]\n",
    "answers['23']"
   ]
  },
  {
   "cell_type": "markdown",
   "metadata": {
    "colab_type": "text",
    "id": "RBo0JVjVVqAF"
   },
   "source": [
    "# 24. Какая студия дает самые длинные названия своим фильмам по количеству символов?"
   ]
  },
  {
   "cell_type": "code",
   "execution_count": 33,
   "metadata": {
    "colab": {},
    "colab_type": "code",
    "id": "QRGS8L0iVqAG"
   },
   "outputs": [
    {
     "data": {
      "text/plain": [
       "'Four By Two Productions'"
      ]
     },
     "execution_count": 33,
     "metadata": {},
     "output_type": "execute_result"
    }
   ],
   "source": [
    "dt_films = data.copy()  # копирем DataFrame для дальнейшей обработки\n",
    "\n",
    "# подсчитывает кол-во знаков в названии фильма\n",
    "dt_films['original_title_length'] = dt_films.original_title.map(lambda x: len(x))\n",
    "\n",
    "# преобразовываем фильмы в списки\n",
    "dt_films.production_companies = dt_films.production_companies.str.split('|')\n",
    "\n",
    "# разворачиваем по спискам фильмов\n",
    "dt_films = dt_films.explode('production_companies')\n",
    "\n",
    "answers['24'] = dt_films.groupby('production_companies').original_title_length.max().sort_values(ascending=False).index[0]\n",
    "answers['24']"
   ]
  },
  {
   "cell_type": "markdown",
   "metadata": {
    "colab_type": "text",
    "id": "9G0hbvR7VqAK"
   },
   "source": [
    "# 25. Описание фильмов какой студии в среднем самые длинные по количеству слов?"
   ]
  },
  {
   "cell_type": "code",
   "execution_count": 34,
   "metadata": {
    "colab": {},
    "colab_type": "code",
    "id": "Ge2GsLNxVqAK"
   },
   "outputs": [
    {
     "data": {
      "text/plain": [
       "'Midnight Picture Show'"
      ]
     },
     "execution_count": 34,
     "metadata": {},
     "output_type": "execute_result"
    }
   ],
   "source": [
    "dt_films = data.copy()  # копирем DataFrame для дальнейшей обработки\n",
    "\n",
    "# подсчитывает кол-во слов в описании фильма\n",
    "dt_films['overview_length'] = dt_films.overview.map(lambda x: len(x.split(' ')))\n",
    "\n",
    "# преобразовываем фильмы в списки\n",
    "dt_films.production_companies = dt_films.production_companies.str.split('|')\n",
    "\n",
    "# разворачиваем по спискам фильмов\n",
    "dt_films = dt_films.explode('production_companies')\n",
    "\n",
    "answers['25'] = dt_films.groupby('production_companies').overview_length.mean().sort_values(ascending=False).index[0]\n",
    "answers['25']"
   ]
  },
  {
   "cell_type": "markdown",
   "metadata": {
    "colab_type": "text",
    "id": "MdXsUXbCVqAV"
   },
   "source": [
    "# 26. Какие фильмы входят в 1 процент лучших по рейтингу?\n"
   ]
  },
  {
   "cell_type": "code",
   "execution_count": 58,
   "metadata": {
    "colab": {},
    "colab_type": "code",
    "id": "8qmJVq4CVqAQ",
    "scrolled": true
   },
   "outputs": [
    {
     "data": {
      "text/plain": [
       "599                                   The Dark Knight\n",
       "118                                      Interstellar\n",
       "125                                The Imitation Game\n",
       "9                                          Inside Out\n",
       "34                                               Room\n",
       "1183                          The Wolf of Wall Street\n",
       "128                                         Gone Girl\n",
       "1191                                 12 Years a Slave\n",
       "119                           Guardians of the Galaxy\n",
       "1081    The Lord of the Rings: The Return of the King\n",
       "1800                                          Memento\n",
       "370                                         Inception\n",
       "872                                       The Pianist\n",
       "138                          The Grand Budapest Hotel\n",
       "1188                                              Her\n",
       "28                                          Spotlight\n",
       "124                                        Big Hero 6\n",
       "177                            The Fault in Our Stars\n",
       "Name: original_title, dtype: object"
      ]
     },
     "execution_count": 58,
     "metadata": {},
     "output_type": "execute_result"
    }
   ],
   "source": [
    "answers['26'] = data.sort_values(by='vote_average', ascending=False).original_title.head(int(len(data)*(0.01)))\n",
    "answers['26']"
   ]
  },
  {
   "cell_type": "markdown",
   "metadata": {
    "colab_type": "text",
    "id": "MdXsUXbCVqAV"
   },
   "source": [
    "# 27. Какие актеры чаще всего снимаются в одном фильме вместе?\n"
   ]
  },
  {
   "cell_type": "code",
   "execution_count": 55,
   "metadata": {},
   "outputs": [
    {
     "data": {
      "text/html": [
       "<div>\n",
       "<style scoped>\n",
       "    .dataframe tbody tr th:only-of-type {\n",
       "        vertical-align: middle;\n",
       "    }\n",
       "\n",
       "    .dataframe tbody tr th {\n",
       "        vertical-align: top;\n",
       "    }\n",
       "\n",
       "    .dataframe thead th {\n",
       "        text-align: right;\n",
       "    }\n",
       "</style>\n",
       "<table border=\"1\" class=\"dataframe\">\n",
       "  <thead>\n",
       "    <tr style=\"text-align: right;\">\n",
       "      <th></th>\n",
       "      <th></th>\n",
       "      <th>imdb_id</th>\n",
       "    </tr>\n",
       "    <tr>\n",
       "      <th>cast_x</th>\n",
       "      <th>cast_y</th>\n",
       "      <th></th>\n",
       "    </tr>\n",
       "  </thead>\n",
       "  <tbody>\n",
       "    <tr>\n",
       "      <th>Rupert Grint</th>\n",
       "      <th>Daniel Radcliffe</th>\n",
       "      <td>8</td>\n",
       "    </tr>\n",
       "  </tbody>\n",
       "</table>\n",
       "</div>"
      ],
      "text/plain": [
       "                               imdb_id\n",
       "cast_x       cast_y                   \n",
       "Rupert Grint Daniel Radcliffe        8"
      ]
     },
     "execution_count": 55,
     "metadata": {},
     "output_type": "execute_result"
    }
   ],
   "source": [
    "dt_cast = data.copy() # копирем DataFrame для дальнейшей обработки\n",
    "dt_cast.cast = dt_cast.cast.str.split('|')  # преобразовываем актеров в списки актеров\n",
    "dt_cast = dt_cast.explode(\"cast\")  # разворачиваем по спискам актеров\n",
    "\n",
    "# создаем новый DataFrame с колонками id фильма и актера\n",
    "dt_cast = dt_cast[['imdb_id','cast']]\n",
    "\n",
    "# создаем пары актеров по фильтам\n",
    "dt_joined = dt_cast.merge(dt_cast, how = 'inner', on = 'imdb_id')\n",
    "\n",
    "# отсекаем актеров\n",
    "dt_joined = dt_joined[dt_joined.cast_x != dt_joined.cast_y]\n",
    "\n",
    "answers['27'] = dt_joined.groupby(['cast_x','cast_y']).count().sort_values(by='imdb_id', ascending=False).head(1)\n",
    "answers['27']"
   ]
  },
  {
   "cell_type": "markdown",
   "metadata": {
    "colab_type": "text",
    "id": "U0nONFnGVqAX"
   },
   "source": [
    "# Submission"
   ]
  },
  {
   "cell_type": "code",
   "execution_count": 60,
   "metadata": {
    "colab": {},
    "colab_type": "code",
    "id": "IfcaRO9-VqAX",
    "outputId": "0f132912-32bb-4196-c98c-abfbc4ad5a5f"
   },
   "outputs": [
    {
     "data": {
      "text/plain": [
       "{'1': 723    Pirates of the Caribbean: On Stranger Tides (t...\n",
       " Name: title, dtype: object,\n",
       " '2': 1157    Gods and Generals (tt0279111)\n",
       " Name: title, dtype: object,\n",
       " '3': 768    Winnie the Pooh (tt1449283)\n",
       " Name: title, dtype: object,\n",
       " '4': 110,\n",
       " '5': 107,\n",
       " '6': 239    Avatar (tt0499549)\n",
       " Name: title, dtype: object,\n",
       " '7': 1245    The Lone Ranger (tt1210819)\n",
       " Name: title, dtype: object,\n",
       " '8': 1478,\n",
       " '9': 599    The Dark Knight (tt0468569)\n",
       " Name: title, dtype: object,\n",
       " '10': 1245    The Lone Ranger (tt1210819)\n",
       " Name: title, dtype: object,\n",
       " '11': 'Drama',\n",
       " '12': 'Drama',\n",
       " '13': 'Peter Jackson',\n",
       " '14': 'Robert Rodriguez',\n",
       " '15': 'Chris Hemsworth',\n",
       " '16': 'Matt Damon',\n",
       " '17': 'Action',\n",
       " '18': 'K-19: The Widowmaker (tt0267626)',\n",
       " '19': 2015,\n",
       " '20': 2014,\n",
       " '21': 9,\n",
       " '23': 'Peter Jackson',\n",
       " '24': 'Four By Two Productions',\n",
       " '25': 'Midnight Picture Show',\n",
       " '27':                                imdb_id\n",
       " cast_x       cast_y                   \n",
       " Rupert Grint Daniel Radcliffe        8,\n",
       " '26': 599                                   The Dark Knight\n",
       " 118                                      Interstellar\n",
       " 125                                The Imitation Game\n",
       " 9                                          Inside Out\n",
       " 34                                               Room\n",
       " 1183                          The Wolf of Wall Street\n",
       " 128                                         Gone Girl\n",
       " 1191                                 12 Years a Slave\n",
       " 119                           Guardians of the Galaxy\n",
       " 1081    The Lord of the Rings: The Return of the King\n",
       " 1800                                          Memento\n",
       " 370                                         Inception\n",
       " 872                                       The Pianist\n",
       " 138                          The Grand Budapest Hotel\n",
       " 1188                                              Her\n",
       " 28                                          Spotlight\n",
       " 124                                        Big Hero 6\n",
       " 177                            The Fault in Our Stars\n",
       " Name: original_title, dtype: object,\n",
       " '22': 450}"
      ]
     },
     "execution_count": 60,
     "metadata": {},
     "output_type": "execute_result"
    }
   ],
   "source": [
    "# в конце можно посмотреть свои ответы к каждому вопросу\n",
    "answers"
   ]
  },
  {
   "cell_type": "code",
   "execution_count": 61,
   "metadata": {
    "colab": {},
    "colab_type": "code",
    "id": "SiRmHPl8VqAd"
   },
   "outputs": [
    {
     "data": {
      "text/plain": [
       "27"
      ]
     },
     "execution_count": 61,
     "metadata": {},
     "output_type": "execute_result"
    }
   ],
   "source": [
    "# и убедиться что ни чего не пропустил)\n",
    "len(answers)"
   ]
  }
 ],
 "metadata": {
  "colab": {
   "name": "Copy of [SF-DST] Movies IMBD v4.1 TEMPLATE.ipynb",
   "provenance": []
  },
  "kernelspec": {
   "display_name": "Python 3",
   "language": "python",
   "name": "python3"
  },
  "language_info": {
   "codemirror_mode": {
    "name": "ipython",
    "version": 3
   },
   "file_extension": ".py",
   "mimetype": "text/x-python",
   "name": "python",
   "nbconvert_exporter": "python",
   "pygments_lexer": "ipython3",
   "version": "3.8.5"
  }
 },
 "nbformat": 4,
 "nbformat_minor": 1
}
