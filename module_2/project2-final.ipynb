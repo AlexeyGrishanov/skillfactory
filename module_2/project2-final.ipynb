{
 "cells": [
  {
   "cell_type": "markdown",
   "metadata": {},
   "source": [
    "### Цели и задачи проекта\n",
    "Суть проекта — отследить влияние условий жизни учащихся в возрасте от 15 до 22 лет на их успеваемость по математике, чтобы на ранней стадии выявлять студентов, находящихся в группе риска. Определиться с параметрами модели, которая предсказывала бы результаты госэкзамена по математике для каждого ученика школы, провести разведывательный анализ данных и составить отчёт по результатам. "
   ]
  },
  {
   "cell_type": "code",
   "execution_count": null,
   "metadata": {},
   "outputs": [],
   "source": [
    "# Importing Libraries\n",
    "import numpy as np  # linear algebra\n",
    "import pandas as pd  # data processing, CSV file I/O (e.g. pd.read_csv)\n",
    "import matplotlib.pyplot as plt\n",
    "import seaborn as sns\n",
    "from itertools import combinations\n",
    "from scipy.stats import ttest_ind"
   ]
  },
  {
   "cell_type": "code",
   "execution_count": 87,
   "metadata": {},
   "outputs": [],
   "source": [
    "# Set options for data preview\n",
    "pd.set_option('display.max_rows', 50)  # показывать больше строк\n",
    "pd.set_option('display.max_columns', 50)  # показывать больше колонок"
   ]
  },
  {
   "cell_type": "markdown",
   "metadata": {},
   "source": [
    "### 1. Первичный отсмотр данных"
   ]
  },
  {
   "cell_type": "code",
   "execution_count": 88,
   "metadata": {
    "scrolled": true
   },
   "outputs": [],
   "source": [
    "# Reading the Data\n",
    "dataset = pd.read_csv('stud_math.csv')\n",
    "\n",
    "# Rename columns\n",
    "original_cols = dataset.columns\n",
    "new_cols = ['school', 'sex', 'age', 'address', 'famsize', 'pstatus', 'medu', 'fedu',\n",
    "            'mjob', 'fjob', 'reason', 'guardian', 'traveltime', 'studytime', 'failures',\n",
    "            'schoolsup', 'famsup', 'paid', 'activities', 'nursery', 'studytime_granular', 'higher',\n",
    "            'internet', 'romantic', 'famrel', 'freetime', 'goout', 'health', 'absences', 'score']\n",
    "dataset = dataset.rename(columns=dict(zip(original_cols, new_cols)))"
   ]
  },
  {
   "cell_type": "code",
   "execution_count": 89,
   "metadata": {
    "scrolled": true
   },
   "outputs": [
    {
     "name": "stdout",
     "output_type": "stream",
     "text": [
      "<class 'pandas.core.frame.DataFrame'>\n",
      "RangeIndex: 395 entries, 0 to 394\n",
      "Data columns (total 30 columns):\n",
      " #   Column              Non-Null Count  Dtype  \n",
      "---  ------              --------------  -----  \n",
      " 0   school              395 non-null    object \n",
      " 1   sex                 395 non-null    object \n",
      " 2   age                 395 non-null    int64  \n",
      " 3   address             378 non-null    object \n",
      " 4   famsize             368 non-null    object \n",
      " 5   pstatus             350 non-null    object \n",
      " 6   medu                392 non-null    float64\n",
      " 7   fedu                371 non-null    float64\n",
      " 8   mjob                376 non-null    object \n",
      " 9   fjob                359 non-null    object \n",
      " 10  reason              378 non-null    object \n",
      " 11  guardian            364 non-null    object \n",
      " 12  traveltime          367 non-null    float64\n",
      " 13  studytime           388 non-null    float64\n",
      " 14  failures            373 non-null    float64\n",
      " 15  schoolsup           386 non-null    object \n",
      " 16  famsup              356 non-null    object \n",
      " 17  paid                355 non-null    object \n",
      " 18  activities          381 non-null    object \n",
      " 19  nursery             379 non-null    object \n",
      " 20  studytime_granular  388 non-null    float64\n",
      " 21  higher              375 non-null    object \n",
      " 22  internet            361 non-null    object \n",
      " 23  romantic            364 non-null    object \n",
      " 24  famrel              368 non-null    float64\n",
      " 25  freetime            384 non-null    float64\n",
      " 26  goout               387 non-null    float64\n",
      " 27  health              380 non-null    float64\n",
      " 28  absences            383 non-null    float64\n",
      " 29  score               389 non-null    float64\n",
      "dtypes: float64(12), int64(1), object(17)\n",
      "memory usage: 92.7+ KB\n"
     ]
    },
    {
     "data": {
      "text/html": [
       "<div>\n",
       "<style scoped>\n",
       "    .dataframe tbody tr th:only-of-type {\n",
       "        vertical-align: middle;\n",
       "    }\n",
       "\n",
       "    .dataframe tbody tr th {\n",
       "        vertical-align: top;\n",
       "    }\n",
       "\n",
       "    .dataframe thead th {\n",
       "        text-align: right;\n",
       "    }\n",
       "</style>\n",
       "<table border=\"1\" class=\"dataframe\">\n",
       "  <thead>\n",
       "    <tr style=\"text-align: right;\">\n",
       "      <th></th>\n",
       "      <th>school</th>\n",
       "      <th>sex</th>\n",
       "      <th>age</th>\n",
       "      <th>address</th>\n",
       "      <th>famsize</th>\n",
       "      <th>pstatus</th>\n",
       "      <th>medu</th>\n",
       "      <th>fedu</th>\n",
       "      <th>mjob</th>\n",
       "      <th>fjob</th>\n",
       "      <th>reason</th>\n",
       "      <th>guardian</th>\n",
       "      <th>traveltime</th>\n",
       "      <th>studytime</th>\n",
       "      <th>failures</th>\n",
       "      <th>schoolsup</th>\n",
       "      <th>famsup</th>\n",
       "      <th>paid</th>\n",
       "      <th>activities</th>\n",
       "      <th>nursery</th>\n",
       "      <th>studytime_granular</th>\n",
       "      <th>higher</th>\n",
       "      <th>internet</th>\n",
       "      <th>romantic</th>\n",
       "      <th>famrel</th>\n",
       "      <th>freetime</th>\n",
       "      <th>goout</th>\n",
       "      <th>health</th>\n",
       "      <th>absences</th>\n",
       "      <th>score</th>\n",
       "    </tr>\n",
       "  </thead>\n",
       "  <tbody>\n",
       "    <tr>\n",
       "      <th>321</th>\n",
       "      <td>GP</td>\n",
       "      <td>F</td>\n",
       "      <td>17</td>\n",
       "      <td>U</td>\n",
       "      <td>GT3</td>\n",
       "      <td>T</td>\n",
       "      <td>2.0</td>\n",
       "      <td>2.0</td>\n",
       "      <td>other</td>\n",
       "      <td>other</td>\n",
       "      <td>course</td>\n",
       "      <td>mother</td>\n",
       "      <td>1.0</td>\n",
       "      <td>2.0</td>\n",
       "      <td>0.0</td>\n",
       "      <td>NaN</td>\n",
       "      <td>yes</td>\n",
       "      <td>no</td>\n",
       "      <td>no</td>\n",
       "      <td>yes</td>\n",
       "      <td>-6.0</td>\n",
       "      <td>yes</td>\n",
       "      <td>no</td>\n",
       "      <td>yes</td>\n",
       "      <td>4.0</td>\n",
       "      <td>2.0</td>\n",
       "      <td>2.0</td>\n",
       "      <td>3.0</td>\n",
       "      <td>12.0</td>\n",
       "      <td>45.0</td>\n",
       "    </tr>\n",
       "    <tr>\n",
       "      <th>354</th>\n",
       "      <td>MS</td>\n",
       "      <td>M</td>\n",
       "      <td>17</td>\n",
       "      <td>NaN</td>\n",
       "      <td>GT3</td>\n",
       "      <td>T</td>\n",
       "      <td>4.0</td>\n",
       "      <td>3.0</td>\n",
       "      <td>services</td>\n",
       "      <td>other</td>\n",
       "      <td>home</td>\n",
       "      <td>mother</td>\n",
       "      <td>2.0</td>\n",
       "      <td>2.0</td>\n",
       "      <td>0.0</td>\n",
       "      <td>no</td>\n",
       "      <td>yes</td>\n",
       "      <td>yes</td>\n",
       "      <td>yes</td>\n",
       "      <td>no</td>\n",
       "      <td>-6.0</td>\n",
       "      <td>yes</td>\n",
       "      <td>yes</td>\n",
       "      <td>yes</td>\n",
       "      <td>4.0</td>\n",
       "      <td>5.0</td>\n",
       "      <td>5.0</td>\n",
       "      <td>2.0</td>\n",
       "      <td>4.0</td>\n",
       "      <td>55.0</td>\n",
       "    </tr>\n",
       "    <tr>\n",
       "      <th>207</th>\n",
       "      <td>GP</td>\n",
       "      <td>F</td>\n",
       "      <td>16</td>\n",
       "      <td>U</td>\n",
       "      <td>GT3</td>\n",
       "      <td>T</td>\n",
       "      <td>4.0</td>\n",
       "      <td>3.0</td>\n",
       "      <td>teacher</td>\n",
       "      <td>other</td>\n",
       "      <td>other</td>\n",
       "      <td>mother</td>\n",
       "      <td>1.0</td>\n",
       "      <td>2.0</td>\n",
       "      <td>0.0</td>\n",
       "      <td>no</td>\n",
       "      <td>no</td>\n",
       "      <td>yes</td>\n",
       "      <td>NaN</td>\n",
       "      <td>yes</td>\n",
       "      <td>-6.0</td>\n",
       "      <td>yes</td>\n",
       "      <td>yes</td>\n",
       "      <td>yes</td>\n",
       "      <td>1.0</td>\n",
       "      <td>3.0</td>\n",
       "      <td>2.0</td>\n",
       "      <td>1.0</td>\n",
       "      <td>10.0</td>\n",
       "      <td>65.0</td>\n",
       "    </tr>\n",
       "    <tr>\n",
       "      <th>179</th>\n",
       "      <td>GP</td>\n",
       "      <td>M</td>\n",
       "      <td>17</td>\n",
       "      <td>U</td>\n",
       "      <td>GT3</td>\n",
       "      <td>T</td>\n",
       "      <td>4.0</td>\n",
       "      <td>3.0</td>\n",
       "      <td>other</td>\n",
       "      <td>other</td>\n",
       "      <td>course</td>\n",
       "      <td>mother</td>\n",
       "      <td>1.0</td>\n",
       "      <td>2.0</td>\n",
       "      <td>0.0</td>\n",
       "      <td>no</td>\n",
       "      <td>yes</td>\n",
       "      <td>no</td>\n",
       "      <td>yes</td>\n",
       "      <td>yes</td>\n",
       "      <td>-6.0</td>\n",
       "      <td>yes</td>\n",
       "      <td>yes</td>\n",
       "      <td>yes</td>\n",
       "      <td>5.0</td>\n",
       "      <td>2.0</td>\n",
       "      <td>3.0</td>\n",
       "      <td>2.0</td>\n",
       "      <td>4.0</td>\n",
       "      <td>55.0</td>\n",
       "    </tr>\n",
       "    <tr>\n",
       "      <th>290</th>\n",
       "      <td>GP</td>\n",
       "      <td>M</td>\n",
       "      <td>18</td>\n",
       "      <td>U</td>\n",
       "      <td>GT3</td>\n",
       "      <td>T</td>\n",
       "      <td>4.0</td>\n",
       "      <td>NaN</td>\n",
       "      <td>teacher</td>\n",
       "      <td>other</td>\n",
       "      <td>home</td>\n",
       "      <td>mother</td>\n",
       "      <td>1.0</td>\n",
       "      <td>2.0</td>\n",
       "      <td>0.0</td>\n",
       "      <td>no</td>\n",
       "      <td>yes</td>\n",
       "      <td>yes</td>\n",
       "      <td>yes</td>\n",
       "      <td>yes</td>\n",
       "      <td>-6.0</td>\n",
       "      <td>yes</td>\n",
       "      <td>yes</td>\n",
       "      <td>NaN</td>\n",
       "      <td>NaN</td>\n",
       "      <td>NaN</td>\n",
       "      <td>2.0</td>\n",
       "      <td>5.0</td>\n",
       "      <td>11.0</td>\n",
       "      <td>55.0</td>\n",
       "    </tr>\n",
       "    <tr>\n",
       "      <th>110</th>\n",
       "      <td>GP</td>\n",
       "      <td>M</td>\n",
       "      <td>15</td>\n",
       "      <td>U</td>\n",
       "      <td>LE3</td>\n",
       "      <td>A</td>\n",
       "      <td>4.0</td>\n",
       "      <td>4.0</td>\n",
       "      <td>teacher</td>\n",
       "      <td>teacher</td>\n",
       "      <td>course</td>\n",
       "      <td>mother</td>\n",
       "      <td>1.0</td>\n",
       "      <td>1.0</td>\n",
       "      <td>0.0</td>\n",
       "      <td>no</td>\n",
       "      <td>no</td>\n",
       "      <td>no</td>\n",
       "      <td>yes</td>\n",
       "      <td>yes</td>\n",
       "      <td>-3.0</td>\n",
       "      <td>yes</td>\n",
       "      <td>NaN</td>\n",
       "      <td>no</td>\n",
       "      <td>5.0</td>\n",
       "      <td>5.0</td>\n",
       "      <td>3.0</td>\n",
       "      <td>4.0</td>\n",
       "      <td>6.0</td>\n",
       "      <td>95.0</td>\n",
       "    </tr>\n",
       "    <tr>\n",
       "      <th>258</th>\n",
       "      <td>GP</td>\n",
       "      <td>M</td>\n",
       "      <td>18</td>\n",
       "      <td>U</td>\n",
       "      <td>GT3</td>\n",
       "      <td>T</td>\n",
       "      <td>2.0</td>\n",
       "      <td>1.0</td>\n",
       "      <td>other</td>\n",
       "      <td>other</td>\n",
       "      <td>home</td>\n",
       "      <td>NaN</td>\n",
       "      <td>1.0</td>\n",
       "      <td>2.0</td>\n",
       "      <td>0.0</td>\n",
       "      <td>no</td>\n",
       "      <td>no</td>\n",
       "      <td>no</td>\n",
       "      <td>yes</td>\n",
       "      <td>yes</td>\n",
       "      <td>-6.0</td>\n",
       "      <td>yes</td>\n",
       "      <td>NaN</td>\n",
       "      <td>no</td>\n",
       "      <td>5.0</td>\n",
       "      <td>2.0</td>\n",
       "      <td>4.0</td>\n",
       "      <td>4.0</td>\n",
       "      <td>8.0</td>\n",
       "      <td>70.0</td>\n",
       "    </tr>\n",
       "    <tr>\n",
       "      <th>1</th>\n",
       "      <td>GP</td>\n",
       "      <td>F</td>\n",
       "      <td>17</td>\n",
       "      <td>U</td>\n",
       "      <td>GT3</td>\n",
       "      <td>NaN</td>\n",
       "      <td>1.0</td>\n",
       "      <td>1.0</td>\n",
       "      <td>at_home</td>\n",
       "      <td>other</td>\n",
       "      <td>course</td>\n",
       "      <td>father</td>\n",
       "      <td>1.0</td>\n",
       "      <td>2.0</td>\n",
       "      <td>0.0</td>\n",
       "      <td>no</td>\n",
       "      <td>yes</td>\n",
       "      <td>no</td>\n",
       "      <td>no</td>\n",
       "      <td>no</td>\n",
       "      <td>-6.0</td>\n",
       "      <td>yes</td>\n",
       "      <td>yes</td>\n",
       "      <td>no</td>\n",
       "      <td>5.0</td>\n",
       "      <td>3.0</td>\n",
       "      <td>3.0</td>\n",
       "      <td>3.0</td>\n",
       "      <td>4.0</td>\n",
       "      <td>30.0</td>\n",
       "    </tr>\n",
       "    <tr>\n",
       "      <th>124</th>\n",
       "      <td>GP</td>\n",
       "      <td>F</td>\n",
       "      <td>16</td>\n",
       "      <td>U</td>\n",
       "      <td>GT3</td>\n",
       "      <td>T</td>\n",
       "      <td>2.0</td>\n",
       "      <td>2.0</td>\n",
       "      <td>other</td>\n",
       "      <td>other</td>\n",
       "      <td>home</td>\n",
       "      <td>mother</td>\n",
       "      <td>1.0</td>\n",
       "      <td>2.0</td>\n",
       "      <td>0.0</td>\n",
       "      <td>no</td>\n",
       "      <td>no</td>\n",
       "      <td>yes</td>\n",
       "      <td>no</td>\n",
       "      <td>yes</td>\n",
       "      <td>-6.0</td>\n",
       "      <td>yes</td>\n",
       "      <td>yes</td>\n",
       "      <td>yes</td>\n",
       "      <td>5.0</td>\n",
       "      <td>4.0</td>\n",
       "      <td>4.0</td>\n",
       "      <td>5.0</td>\n",
       "      <td>0.0</td>\n",
       "      <td>40.0</td>\n",
       "    </tr>\n",
       "    <tr>\n",
       "      <th>62</th>\n",
       "      <td>GP</td>\n",
       "      <td>F</td>\n",
       "      <td>16</td>\n",
       "      <td>U</td>\n",
       "      <td>LE3</td>\n",
       "      <td>T</td>\n",
       "      <td>1.0</td>\n",
       "      <td>2.0</td>\n",
       "      <td>other</td>\n",
       "      <td>services</td>\n",
       "      <td>reputation</td>\n",
       "      <td>father</td>\n",
       "      <td>1.0</td>\n",
       "      <td>2.0</td>\n",
       "      <td>0.0</td>\n",
       "      <td>yes</td>\n",
       "      <td>no</td>\n",
       "      <td>no</td>\n",
       "      <td>yes</td>\n",
       "      <td>yes</td>\n",
       "      <td>-6.0</td>\n",
       "      <td>yes</td>\n",
       "      <td>yes</td>\n",
       "      <td>no</td>\n",
       "      <td>4.0</td>\n",
       "      <td>4.0</td>\n",
       "      <td>3.0</td>\n",
       "      <td>1.0</td>\n",
       "      <td>4.0</td>\n",
       "      <td>45.0</td>\n",
       "    </tr>\n",
       "  </tbody>\n",
       "</table>\n",
       "</div>"
      ],
      "text/plain": [
       "    school sex  age address famsize pstatus  medu  fedu      mjob      fjob  \\\n",
       "321     GP   F   17       U     GT3       T   2.0   2.0     other     other   \n",
       "354     MS   M   17     NaN     GT3       T   4.0   3.0  services     other   \n",
       "207     GP   F   16       U     GT3       T   4.0   3.0   teacher     other   \n",
       "179     GP   M   17       U     GT3       T   4.0   3.0     other     other   \n",
       "290     GP   M   18       U     GT3       T   4.0   NaN   teacher     other   \n",
       "110     GP   M   15       U     LE3       A   4.0   4.0   teacher   teacher   \n",
       "258     GP   M   18       U     GT3       T   2.0   1.0     other     other   \n",
       "1       GP   F   17       U     GT3     NaN   1.0   1.0   at_home     other   \n",
       "124     GP   F   16       U     GT3       T   2.0   2.0     other     other   \n",
       "62      GP   F   16       U     LE3       T   1.0   2.0     other  services   \n",
       "\n",
       "         reason guardian  traveltime  studytime  failures schoolsup famsup  \\\n",
       "321      course   mother         1.0        2.0       0.0       NaN    yes   \n",
       "354        home   mother         2.0        2.0       0.0        no    yes   \n",
       "207       other   mother         1.0        2.0       0.0        no     no   \n",
       "179      course   mother         1.0        2.0       0.0        no    yes   \n",
       "290        home   mother         1.0        2.0       0.0        no    yes   \n",
       "110      course   mother         1.0        1.0       0.0        no     no   \n",
       "258        home      NaN         1.0        2.0       0.0        no     no   \n",
       "1        course   father         1.0        2.0       0.0        no    yes   \n",
       "124        home   mother         1.0        2.0       0.0        no     no   \n",
       "62   reputation   father         1.0        2.0       0.0       yes     no   \n",
       "\n",
       "    paid activities nursery  studytime_granular higher internet romantic  \\\n",
       "321   no         no     yes                -6.0    yes       no      yes   \n",
       "354  yes        yes      no                -6.0    yes      yes      yes   \n",
       "207  yes        NaN     yes                -6.0    yes      yes      yes   \n",
       "179   no        yes     yes                -6.0    yes      yes      yes   \n",
       "290  yes        yes     yes                -6.0    yes      yes      NaN   \n",
       "110   no        yes     yes                -3.0    yes      NaN       no   \n",
       "258   no        yes     yes                -6.0    yes      NaN       no   \n",
       "1     no         no      no                -6.0    yes      yes       no   \n",
       "124  yes         no     yes                -6.0    yes      yes      yes   \n",
       "62    no        yes     yes                -6.0    yes      yes       no   \n",
       "\n",
       "     famrel  freetime  goout  health  absences  score  \n",
       "321     4.0       2.0    2.0     3.0      12.0   45.0  \n",
       "354     4.0       5.0    5.0     2.0       4.0   55.0  \n",
       "207     1.0       3.0    2.0     1.0      10.0   65.0  \n",
       "179     5.0       2.0    3.0     2.0       4.0   55.0  \n",
       "290     NaN       NaN    2.0     5.0      11.0   55.0  \n",
       "110     5.0       5.0    3.0     4.0       6.0   95.0  \n",
       "258     5.0       2.0    4.0     4.0       8.0   70.0  \n",
       "1       5.0       3.0    3.0     3.0       4.0   30.0  \n",
       "124     5.0       4.0    4.0     5.0       0.0   40.0  \n",
       "62      4.0       4.0    3.0     1.0       4.0   45.0  "
      ]
     },
     "execution_count": 89,
     "metadata": {},
     "output_type": "execute_result"
    }
   ],
   "source": [
    "dataset.info()  # get some info about dataset\n",
    "dataset.sample(10)  #see how many null values in out dataset"
   ]
  },
  {
   "cell_type": "markdown",
   "metadata": {},
   "source": [
    "### 2. Функции для анализа и очистки данных "
   ]
  },
  {
   "cell_type": "markdown",
   "metadata": {},
   "source": [
    "##### Primary Data Analysis and NULL processing "
   ]
  },
  {
   "cell_type": "code",
   "execution_count": 90,
   "metadata": {},
   "outputs": [],
   "source": [
    "# Get object data type column info\n",
    "def get_object_column_info(column):\n",
    "    display(pd.DataFrame(dataset[column].value_counts()))\n",
    "    get_boxplot(column)\n",
    "    get_null_values_percent(column)\n",
    "\n",
    "\n",
    "# Get float data type column info\n",
    "def get_float_column_info(column):\n",
    "    display(dataset[column].describe())\n",
    "    dataset[column].hist(legend=True)\n",
    "    plt.show()\n",
    "    get_null_values_percent(column)\n",
    "\n",
    "\n",
    "# Get percent of null values in column\n",
    "def get_null_values_percent(column):\n",
    "    nanPercent = len(dataset[dataset[column].isnull()])/len(dataset)\n",
    "    print('Percent nullable records in \\033[1m{}\\033[0m column: {:2.1%}'.format(\n",
    "        column, nanPercent))\n",
    "    return nanPercent\n",
    "\n",
    "\n",
    "# Get box plot\n",
    "def get_boxplot(column):\n",
    "    fig, ax = plt.subplots(figsize=(14, 4))\n",
    "    sns.boxplot(x=column, y='score',\n",
    "                data=dataset.loc[dataset.loc[:, column].isin(\n",
    "                    dataset.loc[:, column].value_counts().index[:10])],\n",
    "                ax=ax)\n",
    "    plt.xticks(rotation=45)\n",
    "    ax.set_title('Boxplot for ' + column)\n",
    "    plt.show()\n",
    "\n",
    "\n",
    "# Run primary data analysis for column\n",
    "def run_primary_data_analysis(col):\n",
    "    print('\\033[1mCOLUMN: {} \\033[0m'.format(col.upper()))\n",
    "    if dataset.dtypes[col].name == 'object':\n",
    "        get_object_column_info(col)\n",
    "    else:\n",
    "        get_float_column_info(col)\n",
    "    print('----------------------------------------------')\n",
    "    print()\n",
    "\n",
    "\n",
    "# Replace null values in column\n",
    "def replace_null_values(column):\n",
    "    # Заменяем отсутствующие значения номинативной переменной в соотношении существующих значений\n",
    "    mask = dataset[column].isna()\n",
    "    # считаем статистику распределения значений\n",
    "    p = dataset[column].value_counts() / len(dataset[column].dropna())\n",
    "    # заполняем пропуски с вероятностью 'p'\n",
    "    dataset.loc[mask, column] = np.random.choice(\n",
    "        p.index.to_list(), size=mask.sum(), p=p.to_list())\n",
    "\n",
    "\n",
    "# Process primary data\n",
    "def process_primary_data(replaceNa=False):\n",
    "    for col in dataset.columns:\n",
    "        if replaceNa == True:\n",
    "            nanPercent = get_null_values_percent(col)\n",
    "            if nanPercent > 0:\n",
    "                replace_null_values(col)\n",
    "                print(\n",
    "                    '\\033[1mReplace NULL in {} column is completed.\\033[0m'.format(col))\n",
    "        else:\n",
    "            run_primary_data_analysis(col)"
   ]
  },
  {
   "cell_type": "markdown",
   "metadata": {},
   "source": [
    "##### Outliers Analysis and processing "
   ]
  },
  {
   "cell_type": "code",
   "execution_count": 91,
   "metadata": {},
   "outputs": [],
   "source": [
    "# Process outliers\n",
    "def process_outliers(cleanup=False):\n",
    "    global dataset\n",
    "    numericColumns = [col for col in list(\n",
    "        dataset.columns) if dataset.dtypes[col].name != 'object']\n",
    "    for col in numericColumns:\n",
    "        outlierCount, ds = get_outlier(col, cleanup)\n",
    "        if cleanup == True and outlierCount > 0:\n",
    "            dataset = ds\n",
    "            print('\\033[1mCOLUMN: {} \\033[0m ВЫБРОСЫ: Удалено {} записей. Осталось {} записей.'.format(\n",
    "                col.upper(), outlierCount, len(dataset)))\n",
    "\n",
    "\n",
    "# Get outliers\n",
    "def get_outlier(column, cleanup = False):\n",
    "    IQR = dataset[column].quantile(0.75) - dataset[column].quantile(0.25)\n",
    "    perc25 = dataset[column].quantile(0.25)\n",
    "    perc75 = dataset[column].quantile(0.75)\n",
    "\n",
    "    ds = dataset.loc[dataset[column].between(\n",
    "        perc25 - 1.5*IQR, perc75 + 1.5*IQR)]\n",
    "    outlierCount = len(dataset) - len(ds)\n",
    "    if cleanup == False:\n",
    "        #dataset[column].hist(legend=True)\n",
    "        \n",
    "        print('\\033[1mCOLUMN: {} \\033[0m'.format(column.upper()))\n",
    "        print('25-й перцентиль: {}.'.format(perc25))\n",
    "        print('75-й перцентиль: {}.'.format(perc75))\n",
    "        print('IQR: {}.'.format(IQR))\n",
    "        print('Границы выбросов: [{f}, {l}].'.format(\n",
    "            f=perc25 - 1.5*IQR, l=perc75 + 1.5*IQR))\n",
    "        print('\\033[1mКоличесто выбросов: {}.\\033[0m'.format(outlierCount))\n",
    "\n",
    "        dataset[column].loc[dataset[column].between(\n",
    "            perc25 - 1.5*IQR, perc75 + 1.5*IQR)].hist(bins=10, range=(0, 10), label='IQR')\n",
    "        plt.legend()\n",
    "        plt.show()\n",
    "        \n",
    "    return (outlierCount, ds)"
   ]
  },
  {
   "cell_type": "markdown",
   "metadata": {},
   "source": [
    "##### Statistic Functions "
   ]
  },
  {
   "cell_type": "code",
   "execution_count": 92,
   "metadata": {},
   "outputs": [],
   "source": [
    "# Get statistic differences\n",
    "def get_stat_dif(column):\n",
    "    cols = dataset.loc[:, column].value_counts().index[:10]\n",
    "    combinations_all = list(combinations(cols, 2))\n",
    "    for comb in combinations_all:\n",
    "        if ttest_ind(dataset.loc[dataset.loc[:, column] == comb[0], 'score'],\n",
    "                     dataset.loc[dataset.loc[:, column] == comb[1], 'score']).pvalue \\\n",
    "                <= 0.05/len(combinations_all):  # Учли поправку Бонферони\n",
    "            print('Найдены статистически значимые различия для колонки', column)\n",
    "            break"
   ]
  },
  {
   "cell_type": "markdown",
   "metadata": {},
   "source": [
    "### 3. Первичный анализ данных в столбцах"
   ]
  },
  {
   "cell_type": "code",
   "execution_count": 103,
   "metadata": {},
   "outputs": [
    {
     "name": "stdout",
     "output_type": "stream",
     "text": [
      "\u001b[1mCOLUMN: SCHOOL \u001b[0m\n"
     ]
    },
    {
     "data": {
      "text/html": [
       "<div>\n",
       "<style scoped>\n",
       "    .dataframe tbody tr th:only-of-type {\n",
       "        vertical-align: middle;\n",
       "    }\n",
       "\n",
       "    .dataframe tbody tr th {\n",
       "        vertical-align: top;\n",
       "    }\n",
       "\n",
       "    .dataframe thead th {\n",
       "        text-align: right;\n",
       "    }\n",
       "</style>\n",
       "<table border=\"1\" class=\"dataframe\">\n",
       "  <thead>\n",
       "    <tr style=\"text-align: right;\">\n",
       "      <th></th>\n",
       "      <th>school</th>\n",
       "    </tr>\n",
       "  </thead>\n",
       "  <tbody>\n",
       "    <tr>\n",
       "      <th>GP</th>\n",
       "      <td>241</td>\n",
       "    </tr>\n",
       "    <tr>\n",
       "      <th>MS</th>\n",
       "      <td>34</td>\n",
       "    </tr>\n",
       "  </tbody>\n",
       "</table>\n",
       "</div>"
      ],
      "text/plain": [
       "    school\n",
       "GP     241\n",
       "MS      34"
      ]
     },
     "metadata": {},
     "output_type": "display_data"
    },
    {
     "data": {
      "image/png": "[encoded data removed]",
      "text/plain": [
       "<Figure size 1008x288 with 1 Axes>"
      ]
     },
     "metadata": {
      "needs_background": "light"
     },
     "output_type": "display_data"
    },
    {
     "name": "stdout",
     "output_type": "stream",
     "text": [
      "Percent nullable records in \u001b[1mschool\u001b[0m column: 0.0%\n",
      "----------------------------------------------\n",
      "\n",
      "\u001b[1mCOLUMN: SEX \u001b[0m\n"
     ]
    },
    {
     "data": {
      "text/html": [
       "<div>\n",
       "<style scoped>\n",
       "    .dataframe tbody tr th:only-of-type {\n",
       "        vertical-align: middle;\n",
       "    }\n",
       "\n",
       "    .dataframe tbody tr th {\n",
       "        vertical-align: top;\n",
       "    }\n",
       "\n",
       "    .dataframe thead th {\n",
       "        text-align: right;\n",
       "    }\n",
       "</style>\n",
       "<table border=\"1\" class=\"dataframe\">\n",
       "  <thead>\n",
       "    <tr style=\"text-align: right;\">\n",
       "      <th></th>\n",
       "      <th>sex</th>\n",
       "    </tr>\n",
       "  </thead>\n",
       "  <tbody>\n",
       "    <tr>\n",
       "      <th>F</th>\n",
       "      <td>138</td>\n",
       "    </tr>\n",
       "    <tr>\n",
       "      <th>M</th>\n",
       "      <td>137</td>\n",
       "    </tr>\n",
       "  </tbody>\n",
       "</table>\n",
       "</div>"
      ],
      "text/plain": [
       "   sex\n",
       "F  138\n",
       "M  137"
      ]
     },
     "metadata": {},
     "output_type": "display_data"
    },
    {
     "data": {
      "image/png": "[encoded data removed]",
      "text/plain": [
       "<Figure size 1008x288 with 1 Axes>"
      ]
     },
     "metadata": {
      "needs_background": "light"
     },
     "output_type": "display_data"
    },
    {
     "name": "stdout",
     "output_type": "stream",
     "text": [
      "Percent nullable records in \u001b[1msex\u001b[0m column: 0.0%\n",
      "----------------------------------------------\n",
      "\n",
      "\u001b[1mCOLUMN: AGE \u001b[0m\n"
     ]
    },
    {
     "data": {
      "text/plain": [
       "count    275.000000\n",
       "mean      16.654545\n",
       "std        1.238350\n",
       "min       15.000000\n",
       "25%       16.000000\n",
       "50%       17.000000\n",
       "75%       18.000000\n",
       "max       21.000000\n",
       "Name: age, dtype: float64"
      ]
     },
     "metadata": {},
     "output_type": "display_data"
    },
    {
     "data": {
      "image/png": "[encoded data removed]",
      "text/plain": [
       "<Figure size 432x288 with 1 Axes>"
      ]
     },
     "metadata": {
      "needs_background": "light"
     },
     "output_type": "display_data"
    },
    {
     "name": "stdout",
     "output_type": "stream",
     "text": [
      "Percent nullable records in \u001b[1mage\u001b[0m column: 0.0%\n",
      "----------------------------------------------\n",
      "\n",
      "\u001b[1mCOLUMN: ADDRESS \u001b[0m\n"
     ]
    },
    {
     "data": {
      "text/html": [
       "<div>\n",
       "<style scoped>\n",
       "    .dataframe tbody tr th:only-of-type {\n",
       "        vertical-align: middle;\n",
       "    }\n",
       "\n",
       "    .dataframe tbody tr th {\n",
       "        vertical-align: top;\n",
       "    }\n",
       "\n",
       "    .dataframe thead th {\n",
       "        text-align: right;\n",
       "    }\n",
       "</style>\n",
       "<table border=\"1\" class=\"dataframe\">\n",
       "  <thead>\n",
       "    <tr style=\"text-align: right;\">\n",
       "      <th></th>\n",
       "      <th>address</th>\n",
       "    </tr>\n",
       "  </thead>\n",
       "  <tbody>\n",
       "    <tr>\n",
       "      <th>U</th>\n",
       "      <td>216</td>\n",
       "    </tr>\n",
       "    <tr>\n",
       "      <th>R</th>\n",
       "      <td>59</td>\n",
       "    </tr>\n",
       "  </tbody>\n",
       "</table>\n",
       "</div>"
      ],
      "text/plain": [
       "   address\n",
       "U      216\n",
       "R       59"
      ]
     },
     "metadata": {},
     "output_type": "display_data"
    },
    {
     "data": {
      "image/png": "[encoded data removed]",
      "text/plain": [
       "<Figure size 1008x288 with 1 Axes>"
      ]
     },
     "metadata": {
      "needs_background": "light"
     },
     "output_type": "display_data"
    },
    {
     "name": "stdout",
     "output_type": "stream",
     "text": [
      "Percent nullable records in \u001b[1maddress\u001b[0m column: 0.0%\n",
      "----------------------------------------------\n",
      "\n",
      "\u001b[1mCOLUMN: FAMSIZE \u001b[0m\n"
     ]
    },
    {
     "data": {
      "text/html": [
       "<div>\n",
       "<style scoped>\n",
       "    .dataframe tbody tr th:only-of-type {\n",
       "        vertical-align: middle;\n",
       "    }\n",
       "\n",
       "    .dataframe tbody tr th {\n",
       "        vertical-align: top;\n",
       "    }\n",
       "\n",
       "    .dataframe thead th {\n",
       "        text-align: right;\n",
       "    }\n",
       "</style>\n",
       "<table border=\"1\" class=\"dataframe\">\n",
       "  <thead>\n",
       "    <tr style=\"text-align: right;\">\n",
       "      <th></th>\n",
       "      <th>famsize</th>\n",
       "    </tr>\n",
       "  </thead>\n",
       "  <tbody>\n",
       "    <tr>\n",
       "      <th>GT3</th>\n",
       "      <td>198</td>\n",
       "    </tr>\n",
       "    <tr>\n",
       "      <th>LE3</th>\n",
       "      <td>77</td>\n",
       "    </tr>\n",
       "  </tbody>\n",
       "</table>\n",
       "</div>"
      ],
      "text/plain": [
       "     famsize\n",
       "GT3      198\n",
       "LE3       77"
      ]
     },
     "metadata": {},
     "output_type": "display_data"
    },
    {
     "data": {
      "image/png": "[encoded data removed]",
      "text/plain": [
       "<Figure size 1008x288 with 1 Axes>"
      ]
     },
     "metadata": {
      "needs_background": "light"
     },
     "output_type": "display_data"
    },
    {
     "name": "stdout",
     "output_type": "stream",
     "text": [
      "Percent nullable records in \u001b[1mfamsize\u001b[0m column: 0.0%\n",
      "----------------------------------------------\n",
      "\n",
      "\u001b[1mCOLUMN: PSTATUS \u001b[0m\n"
     ]
    },
    {
     "data": {
      "text/html": [
       "<div>\n",
       "<style scoped>\n",
       "    .dataframe tbody tr th:only-of-type {\n",
       "        vertical-align: middle;\n",
       "    }\n",
       "\n",
       "    .dataframe tbody tr th {\n",
       "        vertical-align: top;\n",
       "    }\n",
       "\n",
       "    .dataframe thead th {\n",
       "        text-align: right;\n",
       "    }\n",
       "</style>\n",
       "<table border=\"1\" class=\"dataframe\">\n",
       "  <thead>\n",
       "    <tr style=\"text-align: right;\">\n",
       "      <th></th>\n",
       "      <th>pstatus</th>\n",
       "    </tr>\n",
       "  </thead>\n",
       "  <tbody>\n",
       "    <tr>\n",
       "      <th>T</th>\n",
       "      <td>248</td>\n",
       "    </tr>\n",
       "    <tr>\n",
       "      <th>A</th>\n",
       "      <td>27</td>\n",
       "    </tr>\n",
       "  </tbody>\n",
       "</table>\n",
       "</div>"
      ],
      "text/plain": [
       "   pstatus\n",
       "T      248\n",
       "A       27"
      ]
     },
     "metadata": {},
     "output_type": "display_data"
    },
    {
     "data": {
      "image/png": "[encoded data removed]",
      "text/plain": [
       "<Figure size 1008x288 with 1 Axes>"
      ]
     },
     "metadata": {
      "needs_background": "light"
     },
     "output_type": "display_data"
    },
    {
     "name": "stdout",
     "output_type": "stream",
     "text": [
      "Percent nullable records in \u001b[1mpstatus\u001b[0m column: 0.0%\n",
      "----------------------------------------------\n",
      "\n",
      "\u001b[1mCOLUMN: MEDU \u001b[0m\n"
     ]
    },
    {
     "data": {
      "text/plain": [
       "count    275.000000\n",
       "mean       2.763636\n",
       "std        1.116624\n",
       "min        0.000000\n",
       "25%        2.000000\n",
       "50%        3.000000\n",
       "75%        4.000000\n",
       "max        4.000000\n",
       "Name: medu, dtype: float64"
      ]
     },
     "metadata": {},
     "output_type": "display_data"
    },
    {
     "data": {
      "image/png": "[encoded data removed]",
      "text/plain": [
       "<Figure size 432x288 with 1 Axes>"
      ]
     },
     "metadata": {
      "needs_background": "light"
     },
     "output_type": "display_data"
    },
    {
     "name": "stdout",
     "output_type": "stream",
     "text": [
      "Percent nullable records in \u001b[1mmedu\u001b[0m column: 0.0%\n",
      "----------------------------------------------\n",
      "\n",
      "\u001b[1mCOLUMN: FEDU \u001b[0m\n"
     ]
    },
    {
     "data": {
      "text/plain": [
       "count    275.000000\n",
       "mean       2.560000\n",
       "std        1.066682\n",
       "min        1.000000\n",
       "25%        2.000000\n",
       "50%        3.000000\n",
       "75%        3.000000\n",
       "max        4.000000\n",
       "Name: fedu, dtype: float64"
      ]
     },
     "metadata": {},
     "output_type": "display_data"
    },
    {
     "data": {
      "image/png": "[encoded data removed]",
      "text/plain": [
       "<Figure size 432x288 with 1 Axes>"
      ]
     },
     "metadata": {
      "needs_background": "light"
     },
     "output_type": "display_data"
    },
    {
     "name": "stdout",
     "output_type": "stream",
     "text": [
      "Percent nullable records in \u001b[1mfedu\u001b[0m column: 0.0%\n",
      "----------------------------------------------\n",
      "\n",
      "\u001b[1mCOLUMN: MJOB \u001b[0m\n"
     ]
    },
    {
     "data": {
      "text/html": [
       "<div>\n",
       "<style scoped>\n",
       "    .dataframe tbody tr th:only-of-type {\n",
       "        vertical-align: middle;\n",
       "    }\n",
       "\n",
       "    .dataframe tbody tr th {\n",
       "        vertical-align: top;\n",
       "    }\n",
       "\n",
       "    .dataframe thead th {\n",
       "        text-align: right;\n",
       "    }\n",
       "</style>\n",
       "<table border=\"1\" class=\"dataframe\">\n",
       "  <thead>\n",
       "    <tr style=\"text-align: right;\">\n",
       "      <th></th>\n",
       "      <th>mjob</th>\n",
       "    </tr>\n",
       "  </thead>\n",
       "  <tbody>\n",
       "    <tr>\n",
       "      <th>other</th>\n",
       "      <td>97</td>\n",
       "    </tr>\n",
       "    <tr>\n",
       "      <th>services</th>\n",
       "      <td>68</td>\n",
       "    </tr>\n",
       "    <tr>\n",
       "      <th>teacher</th>\n",
       "      <td>44</td>\n",
       "    </tr>\n",
       "    <tr>\n",
       "      <th>at_home</th>\n",
       "      <td>43</td>\n",
       "    </tr>\n",
       "    <tr>\n",
       "      <th>health</th>\n",
       "      <td>23</td>\n",
       "    </tr>\n",
       "  </tbody>\n",
       "</table>\n",
       "</div>"
      ],
      "text/plain": [
       "          mjob\n",
       "other       97\n",
       "services    68\n",
       "teacher     44\n",
       "at_home     43\n",
       "health      23"
      ]
     },
     "metadata": {},
     "output_type": "display_data"
    },
    {
     "data": {
      "image/png": "[encoded data removed]",
      "text/plain": [
       "<Figure size 1008x288 with 1 Axes>"
      ]
     },
     "metadata": {
      "needs_background": "light"
     },
     "output_type": "display_data"
    },
    {
     "name": "stdout",
     "output_type": "stream",
     "text": [
      "Percent nullable records in \u001b[1mmjob\u001b[0m column: 0.0%\n",
      "----------------------------------------------\n",
      "\n",
      "\u001b[1mCOLUMN: FJOB \u001b[0m\n"
     ]
    },
    {
     "data": {
      "text/html": [
       "<div>\n",
       "<style scoped>\n",
       "    .dataframe tbody tr th:only-of-type {\n",
       "        vertical-align: middle;\n",
       "    }\n",
       "\n",
       "    .dataframe tbody tr th {\n",
       "        vertical-align: top;\n",
       "    }\n",
       "\n",
       "    .dataframe thead th {\n",
       "        text-align: right;\n",
       "    }\n",
       "</style>\n",
       "<table border=\"1\" class=\"dataframe\">\n",
       "  <thead>\n",
       "    <tr style=\"text-align: right;\">\n",
       "      <th></th>\n",
       "      <th>fjob</th>\n",
       "    </tr>\n",
       "  </thead>\n",
       "  <tbody>\n",
       "    <tr>\n",
       "      <th>other</th>\n",
       "      <td>152</td>\n",
       "    </tr>\n",
       "    <tr>\n",
       "      <th>services</th>\n",
       "      <td>77</td>\n",
       "    </tr>\n",
       "    <tr>\n",
       "      <th>teacher</th>\n",
       "      <td>21</td>\n",
       "    </tr>\n",
       "    <tr>\n",
       "      <th>at_home</th>\n",
       "      <td>14</td>\n",
       "    </tr>\n",
       "    <tr>\n",
       "      <th>health</th>\n",
       "      <td>11</td>\n",
       "    </tr>\n",
       "  </tbody>\n",
       "</table>\n",
       "</div>"
      ],
      "text/plain": [
       "          fjob\n",
       "other      152\n",
       "services    77\n",
       "teacher     21\n",
       "at_home     14\n",
       "health      11"
      ]
     },
     "metadata": {},
     "output_type": "display_data"
    },
    {
     "data": {
      "image/png": "[encoded data removed]",
      "text/plain": [
       "<Figure size 1008x288 with 1 Axes>"
      ]
     },
     "metadata": {
      "needs_background": "light"
     },
     "output_type": "display_data"
    },
    {
     "name": "stdout",
     "output_type": "stream",
     "text": [
      "Percent nullable records in \u001b[1mfjob\u001b[0m column: 0.0%\n",
      "----------------------------------------------\n",
      "\n",
      "\u001b[1mCOLUMN: REASON \u001b[0m\n"
     ]
    },
    {
     "data": {
      "text/html": [
       "<div>\n",
       "<style scoped>\n",
       "    .dataframe tbody tr th:only-of-type {\n",
       "        vertical-align: middle;\n",
       "    }\n",
       "\n",
       "    .dataframe tbody tr th {\n",
       "        vertical-align: top;\n",
       "    }\n",
       "\n",
       "    .dataframe thead th {\n",
       "        text-align: right;\n",
       "    }\n",
       "</style>\n",
       "<table border=\"1\" class=\"dataframe\">\n",
       "  <thead>\n",
       "    <tr style=\"text-align: right;\">\n",
       "      <th></th>\n",
       "      <th>reason</th>\n",
       "    </tr>\n",
       "  </thead>\n",
       "  <tbody>\n",
       "    <tr>\n",
       "      <th>course</th>\n",
       "      <td>104</td>\n",
       "    </tr>\n",
       "    <tr>\n",
       "      <th>home</th>\n",
       "      <td>74</td>\n",
       "    </tr>\n",
       "    <tr>\n",
       "      <th>reputation</th>\n",
       "      <td>69</td>\n",
       "    </tr>\n",
       "    <tr>\n",
       "      <th>other</th>\n",
       "      <td>28</td>\n",
       "    </tr>\n",
       "  </tbody>\n",
       "</table>\n",
       "</div>"
      ],
      "text/plain": [
       "            reason\n",
       "course         104\n",
       "home            74\n",
       "reputation      69\n",
       "other           28"
      ]
     },
     "metadata": {},
     "output_type": "display_data"
    },
    {
     "data": {
      "image/png": "[encoded data removed]",
      "text/plain": [
       "<Figure size 1008x288 with 1 Axes>"
      ]
     },
     "metadata": {
      "needs_background": "light"
     },
     "output_type": "display_data"
    },
    {
     "name": "stdout",
     "output_type": "stream",
     "text": [
      "Percent nullable records in \u001b[1mreason\u001b[0m column: 0.0%\n",
      "----------------------------------------------\n",
      "\n",
      "\u001b[1mCOLUMN: GUARDIAN \u001b[0m\n"
     ]
    },
    {
     "data": {
      "text/html": [
       "<div>\n",
       "<style scoped>\n",
       "    .dataframe tbody tr th:only-of-type {\n",
       "        vertical-align: middle;\n",
       "    }\n",
       "\n",
       "    .dataframe tbody tr th {\n",
       "        vertical-align: top;\n",
       "    }\n",
       "\n",
       "    .dataframe thead th {\n",
       "        text-align: right;\n",
       "    }\n",
       "</style>\n",
       "<table border=\"1\" class=\"dataframe\">\n",
       "  <thead>\n",
       "    <tr style=\"text-align: right;\">\n",
       "      <th></th>\n",
       "      <th>guardian</th>\n",
       "    </tr>\n",
       "  </thead>\n",
       "  <tbody>\n",
       "    <tr>\n",
       "      <th>mother</th>\n",
       "      <td>189</td>\n",
       "    </tr>\n",
       "    <tr>\n",
       "      <th>father</th>\n",
       "      <td>63</td>\n",
       "    </tr>\n",
       "    <tr>\n",
       "      <th>other</th>\n",
       "      <td>23</td>\n",
       "    </tr>\n",
       "  </tbody>\n",
       "</table>\n",
       "</div>"
      ],
      "text/plain": [
       "        guardian\n",
       "mother       189\n",
       "father        63\n",
       "other         23"
      ]
     },
     "metadata": {},
     "output_type": "display_data"
    },
    {
     "data": {
      "image/png": "[encoded data removed]",
      "text/plain": [
       "<Figure size 1008x288 with 1 Axes>"
      ]
     },
     "metadata": {
      "needs_background": "light"
     },
     "output_type": "display_data"
    },
    {
     "name": "stdout",
     "output_type": "stream",
     "text": [
      "Percent nullable records in \u001b[1mguardian\u001b[0m column: 0.0%\n",
      "----------------------------------------------\n",
      "\n",
      "\u001b[1mCOLUMN: TRAVELTIME \u001b[0m\n"
     ]
    },
    {
     "data": {
      "text/plain": [
       "count    275.000000\n",
       "mean       1.381818\n",
       "std        0.594712\n",
       "min        1.000000\n",
       "25%        1.000000\n",
       "50%        1.000000\n",
       "75%        2.000000\n",
       "max        3.000000\n",
       "Name: traveltime, dtype: float64"
      ]
     },
     "metadata": {},
     "output_type": "display_data"
    },
    {
     "data": {
      "image/png": "[encoded data removed]",
      "text/plain": [
       "<Figure size 432x288 with 1 Axes>"
      ]
     },
     "metadata": {
      "needs_background": "light"
     },
     "output_type": "display_data"
    },
    {
     "name": "stdout",
     "output_type": "stream",
     "text": [
      "Percent nullable records in \u001b[1mtraveltime\u001b[0m column: 0.0%\n",
      "----------------------------------------------\n",
      "\n",
      "\u001b[1mCOLUMN: STUDYTIME \u001b[0m\n"
     ]
    },
    {
     "data": {
      "text/plain": [
       "count    275.000000\n",
       "mean       1.930909\n",
       "std        0.671873\n",
       "min        1.000000\n",
       "25%        1.000000\n",
       "50%        2.000000\n",
       "75%        2.000000\n",
       "max        3.000000\n",
       "Name: studytime, dtype: float64"
      ]
     },
     "metadata": {},
     "output_type": "display_data"
    },
    {
     "data": {
      "image/png": "[encoded data removed]",
      "text/plain": [
       "<Figure size 432x288 with 1 Axes>"
      ]
     },
     "metadata": {
      "needs_background": "light"
     },
     "output_type": "display_data"
    },
    {
     "name": "stdout",
     "output_type": "stream",
     "text": [
      "Percent nullable records in \u001b[1mstudytime\u001b[0m column: 0.0%\n",
      "----------------------------------------------\n",
      "\n",
      "\u001b[1mCOLUMN: SCHOOLSUP \u001b[0m\n"
     ]
    },
    {
     "data": {
      "text/html": [
       "<div>\n",
       "<style scoped>\n",
       "    .dataframe tbody tr th:only-of-type {\n",
       "        vertical-align: middle;\n",
       "    }\n",
       "\n",
       "    .dataframe tbody tr th {\n",
       "        vertical-align: top;\n",
       "    }\n",
       "\n",
       "    .dataframe thead th {\n",
       "        text-align: right;\n",
       "    }\n",
       "</style>\n",
       "<table border=\"1\" class=\"dataframe\">\n",
       "  <thead>\n",
       "    <tr style=\"text-align: right;\">\n",
       "      <th></th>\n",
       "      <th>schoolsup</th>\n",
       "    </tr>\n",
       "  </thead>\n",
       "  <tbody>\n",
       "    <tr>\n",
       "      <th>no</th>\n",
       "      <td>239</td>\n",
       "    </tr>\n",
       "    <tr>\n",
       "      <th>yes</th>\n",
       "      <td>36</td>\n",
       "    </tr>\n",
       "  </tbody>\n",
       "</table>\n",
       "</div>"
      ],
      "text/plain": [
       "     schoolsup\n",
       "no         239\n",
       "yes         36"
      ]
     },
     "metadata": {},
     "output_type": "display_data"
    },
    {
     "data": {
      "image/png": "[encoded data removed]",
      "text/plain": [
       "<Figure size 1008x288 with 1 Axes>"
      ]
     },
     "metadata": {
      "needs_background": "light"
     },
     "output_type": "display_data"
    },
    {
     "name": "stdout",
     "output_type": "stream",
     "text": [
      "Percent nullable records in \u001b[1mschoolsup\u001b[0m column: 0.0%\n",
      "----------------------------------------------\n",
      "\n",
      "\u001b[1mCOLUMN: FAMSUP \u001b[0m\n"
     ]
    },
    {
     "data": {
      "text/html": [
       "<div>\n",
       "<style scoped>\n",
       "    .dataframe tbody tr th:only-of-type {\n",
       "        vertical-align: middle;\n",
       "    }\n",
       "\n",
       "    .dataframe tbody tr th {\n",
       "        vertical-align: top;\n",
       "    }\n",
       "\n",
       "    .dataframe thead th {\n",
       "        text-align: right;\n",
       "    }\n",
       "</style>\n",
       "<table border=\"1\" class=\"dataframe\">\n",
       "  <thead>\n",
       "    <tr style=\"text-align: right;\">\n",
       "      <th></th>\n",
       "      <th>famsup</th>\n",
       "    </tr>\n",
       "  </thead>\n",
       "  <tbody>\n",
       "    <tr>\n",
       "      <th>yes</th>\n",
       "      <td>166</td>\n",
       "    </tr>\n",
       "    <tr>\n",
       "      <th>no</th>\n",
       "      <td>109</td>\n",
       "    </tr>\n",
       "  </tbody>\n",
       "</table>\n",
       "</div>"
      ],
      "text/plain": [
       "     famsup\n",
       "yes     166\n",
       "no      109"
      ]
     },
     "metadata": {},
     "output_type": "display_data"
    },
    {
     "data": {
      "image/png": "[encoded data removed]",
      "text/plain": [
       "<Figure size 1008x288 with 1 Axes>"
      ]
     },
     "metadata": {
      "needs_background": "light"
     },
     "output_type": "display_data"
    },
    {
     "name": "stdout",
     "output_type": "stream",
     "text": [
      "Percent nullable records in \u001b[1mfamsup\u001b[0m column: 0.0%\n",
      "----------------------------------------------\n",
      "\n",
      "\u001b[1mCOLUMN: PAID \u001b[0m\n"
     ]
    },
    {
     "data": {
      "text/html": [
       "<div>\n",
       "<style scoped>\n",
       "    .dataframe tbody tr th:only-of-type {\n",
       "        vertical-align: middle;\n",
       "    }\n",
       "\n",
       "    .dataframe tbody tr th {\n",
       "        vertical-align: top;\n",
       "    }\n",
       "\n",
       "    .dataframe thead th {\n",
       "        text-align: right;\n",
       "    }\n",
       "</style>\n",
       "<table border=\"1\" class=\"dataframe\">\n",
       "  <thead>\n",
       "    <tr style=\"text-align: right;\">\n",
       "      <th></th>\n",
       "      <th>paid</th>\n",
       "    </tr>\n",
       "  </thead>\n",
       "  <tbody>\n",
       "    <tr>\n",
       "      <th>no</th>\n",
       "      <td>151</td>\n",
       "    </tr>\n",
       "    <tr>\n",
       "      <th>yes</th>\n",
       "      <td>124</td>\n",
       "    </tr>\n",
       "  </tbody>\n",
       "</table>\n",
       "</div>"
      ],
      "text/plain": [
       "     paid\n",
       "no    151\n",
       "yes   124"
      ]
     },
     "metadata": {},
     "output_type": "display_data"
    },
    {
     "data": {
      "image/png": "[encoded data removed]",
      "text/plain": [
       "<Figure size 1008x288 with 1 Axes>"
      ]
     },
     "metadata": {
      "needs_background": "light"
     },
     "output_type": "display_data"
    },
    {
     "name": "stdout",
     "output_type": "stream",
     "text": [
      "Percent nullable records in \u001b[1mpaid\u001b[0m column: 0.0%\n",
      "----------------------------------------------\n",
      "\n",
      "\u001b[1mCOLUMN: ACTIVITIES \u001b[0m\n"
     ]
    },
    {
     "data": {
      "text/html": [
       "<div>\n",
       "<style scoped>\n",
       "    .dataframe tbody tr th:only-of-type {\n",
       "        vertical-align: middle;\n",
       "    }\n",
       "\n",
       "    .dataframe tbody tr th {\n",
       "        vertical-align: top;\n",
       "    }\n",
       "\n",
       "    .dataframe thead th {\n",
       "        text-align: right;\n",
       "    }\n",
       "</style>\n",
       "<table border=\"1\" class=\"dataframe\">\n",
       "  <thead>\n",
       "    <tr style=\"text-align: right;\">\n",
       "      <th></th>\n",
       "      <th>activities</th>\n",
       "    </tr>\n",
       "  </thead>\n",
       "  <tbody>\n",
       "    <tr>\n",
       "      <th>yes</th>\n",
       "      <td>142</td>\n",
       "    </tr>\n",
       "    <tr>\n",
       "      <th>no</th>\n",
       "      <td>133</td>\n",
       "    </tr>\n",
       "  </tbody>\n",
       "</table>\n",
       "</div>"
      ],
      "text/plain": [
       "     activities\n",
       "yes         142\n",
       "no          133"
      ]
     },
     "metadata": {},
     "output_type": "display_data"
    },
    {
     "data": {
      "image/png": "[encoded data removed]",
      "text/plain": [
       "<Figure size 1008x288 with 1 Axes>"
      ]
     },
     "metadata": {
      "needs_background": "light"
     },
     "output_type": "display_data"
    },
    {
     "name": "stdout",
     "output_type": "stream",
     "text": [
      "Percent nullable records in \u001b[1mactivities\u001b[0m column: 0.0%\n",
      "----------------------------------------------\n",
      "\n",
      "\u001b[1mCOLUMN: NURSERY \u001b[0m\n"
     ]
    },
    {
     "data": {
      "text/html": [
       "<div>\n",
       "<style scoped>\n",
       "    .dataframe tbody tr th:only-of-type {\n",
       "        vertical-align: middle;\n",
       "    }\n",
       "\n",
       "    .dataframe tbody tr th {\n",
       "        vertical-align: top;\n",
       "    }\n",
       "\n",
       "    .dataframe thead th {\n",
       "        text-align: right;\n",
       "    }\n",
       "</style>\n",
       "<table border=\"1\" class=\"dataframe\">\n",
       "  <thead>\n",
       "    <tr style=\"text-align: right;\">\n",
       "      <th></th>\n",
       "      <th>nursery</th>\n",
       "    </tr>\n",
       "  </thead>\n",
       "  <tbody>\n",
       "    <tr>\n",
       "      <th>yes</th>\n",
       "      <td>215</td>\n",
       "    </tr>\n",
       "    <tr>\n",
       "      <th>no</th>\n",
       "      <td>60</td>\n",
       "    </tr>\n",
       "  </tbody>\n",
       "</table>\n",
       "</div>"
      ],
      "text/plain": [
       "     nursery\n",
       "yes      215\n",
       "no        60"
      ]
     },
     "metadata": {},
     "output_type": "display_data"
    },
    {
     "data": {
      "image/png": "[encoded data removed]",
      "text/plain": [
       "<Figure size 1008x288 with 1 Axes>"
      ]
     },
     "metadata": {
      "needs_background": "light"
     },
     "output_type": "display_data"
    },
    {
     "name": "stdout",
     "output_type": "stream",
     "text": [
      "Percent nullable records in \u001b[1mnursery\u001b[0m column: 0.0%\n",
      "----------------------------------------------\n",
      "\n",
      "\u001b[1mCOLUMN: HIGHER \u001b[0m\n"
     ]
    },
    {
     "data": {
      "text/html": [
       "<div>\n",
       "<style scoped>\n",
       "    .dataframe tbody tr th:only-of-type {\n",
       "        vertical-align: middle;\n",
       "    }\n",
       "\n",
       "    .dataframe tbody tr th {\n",
       "        vertical-align: top;\n",
       "    }\n",
       "\n",
       "    .dataframe thead th {\n",
       "        text-align: right;\n",
       "    }\n",
       "</style>\n",
       "<table border=\"1\" class=\"dataframe\">\n",
       "  <thead>\n",
       "    <tr style=\"text-align: right;\">\n",
       "      <th></th>\n",
       "      <th>higher</th>\n",
       "    </tr>\n",
       "  </thead>\n",
       "  <tbody>\n",
       "    <tr>\n",
       "      <th>yes</th>\n",
       "      <td>263</td>\n",
       "    </tr>\n",
       "    <tr>\n",
       "      <th>no</th>\n",
       "      <td>12</td>\n",
       "    </tr>\n",
       "  </tbody>\n",
       "</table>\n",
       "</div>"
      ],
      "text/plain": [
       "     higher\n",
       "yes     263\n",
       "no       12"
      ]
     },
     "metadata": {},
     "output_type": "display_data"
    },
    {
     "data": {
      "image/png": "[encoded data removed]",
      "text/plain": [
       "<Figure size 1008x288 with 1 Axes>"
      ]
     },
     "metadata": {
      "needs_background": "light"
     },
     "output_type": "display_data"
    },
    {
     "name": "stdout",
     "output_type": "stream",
     "text": [
      "Percent nullable records in \u001b[1mhigher\u001b[0m column: 0.0%\n",
      "----------------------------------------------\n",
      "\n",
      "\u001b[1mCOLUMN: INTERNET \u001b[0m\n"
     ]
    },
    {
     "data": {
      "text/html": [
       "<div>\n",
       "<style scoped>\n",
       "    .dataframe tbody tr th:only-of-type {\n",
       "        vertical-align: middle;\n",
       "    }\n",
       "\n",
       "    .dataframe tbody tr th {\n",
       "        vertical-align: top;\n",
       "    }\n",
       "\n",
       "    .dataframe thead th {\n",
       "        text-align: right;\n",
       "    }\n",
       "</style>\n",
       "<table border=\"1\" class=\"dataframe\">\n",
       "  <thead>\n",
       "    <tr style=\"text-align: right;\">\n",
       "      <th></th>\n",
       "      <th>internet</th>\n",
       "    </tr>\n",
       "  </thead>\n",
       "  <tbody>\n",
       "    <tr>\n",
       "      <th>yes</th>\n",
       "      <td>235</td>\n",
       "    </tr>\n",
       "    <tr>\n",
       "      <th>no</th>\n",
       "      <td>40</td>\n",
       "    </tr>\n",
       "  </tbody>\n",
       "</table>\n",
       "</div>"
      ],
      "text/plain": [
       "     internet\n",
       "yes       235\n",
       "no         40"
      ]
     },
     "metadata": {},
     "output_type": "display_data"
    },
    {
     "data": {
      "image/png": "[encoded data removed]",
      "text/plain": [
       "<Figure size 1008x288 with 1 Axes>"
      ]
     },
     "metadata": {
      "needs_background": "light"
     },
     "output_type": "display_data"
    },
    {
     "name": "stdout",
     "output_type": "stream",
     "text": [
      "Percent nullable records in \u001b[1minternet\u001b[0m column: 0.0%\n",
      "----------------------------------------------\n",
      "\n",
      "\u001b[1mCOLUMN: ROMANTIC \u001b[0m\n"
     ]
    },
    {
     "data": {
      "text/html": [
       "<div>\n",
       "<style scoped>\n",
       "    .dataframe tbody tr th:only-of-type {\n",
       "        vertical-align: middle;\n",
       "    }\n",
       "\n",
       "    .dataframe tbody tr th {\n",
       "        vertical-align: top;\n",
       "    }\n",
       "\n",
       "    .dataframe thead th {\n",
       "        text-align: right;\n",
       "    }\n",
       "</style>\n",
       "<table border=\"1\" class=\"dataframe\">\n",
       "  <thead>\n",
       "    <tr style=\"text-align: right;\">\n",
       "      <th></th>\n",
       "      <th>romantic</th>\n",
       "    </tr>\n",
       "  </thead>\n",
       "  <tbody>\n",
       "    <tr>\n",
       "      <th>no</th>\n",
       "      <td>187</td>\n",
       "    </tr>\n",
       "    <tr>\n",
       "      <th>yes</th>\n",
       "      <td>88</td>\n",
       "    </tr>\n",
       "  </tbody>\n",
       "</table>\n",
       "</div>"
      ],
      "text/plain": [
       "     romantic\n",
       "no        187\n",
       "yes        88"
      ]
     },
     "metadata": {},
     "output_type": "display_data"
    },
    {
     "data": {
      "image/png": "[encoded data removed]",
      "text/plain": [
       "<Figure size 1008x288 with 1 Axes>"
      ]
     },
     "metadata": {
      "needs_background": "light"
     },
     "output_type": "display_data"
    },
    {
     "name": "stdout",
     "output_type": "stream",
     "text": [
      "Percent nullable records in \u001b[1mromantic\u001b[0m column: 0.0%\n",
      "----------------------------------------------\n",
      "\n",
      "\u001b[1mCOLUMN: FAMREL \u001b[0m\n"
     ]
    },
    {
     "data": {
      "text/plain": [
       "count    275.000000\n",
       "mean       4.120000\n",
       "std        0.670113\n",
       "min        3.000000\n",
       "25%        4.000000\n",
       "50%        4.000000\n",
       "75%        5.000000\n",
       "max        5.000000\n",
       "Name: famrel, dtype: float64"
      ]
     },
     "metadata": {},
     "output_type": "display_data"
    },
    {
     "data": {
      "image/png": "[encoded data removed]",
      "text/plain": [
       "<Figure size 432x288 with 1 Axes>"
      ]
     },
     "metadata": {
      "needs_background": "light"
     },
     "output_type": "display_data"
    },
    {
     "name": "stdout",
     "output_type": "stream",
     "text": [
      "Percent nullable records in \u001b[1mfamrel\u001b[0m column: 0.0%\n",
      "----------------------------------------------\n",
      "\n",
      "\u001b[1mCOLUMN: FREETIME \u001b[0m\n"
     ]
    },
    {
     "data": {
      "text/plain": [
       "count    275.000000\n",
       "mean       3.367273\n",
       "std        0.891782\n",
       "min        2.000000\n",
       "25%        3.000000\n",
       "50%        3.000000\n",
       "75%        4.000000\n",
       "max        5.000000\n",
       "Name: freetime, dtype: float64"
      ]
     },
     "metadata": {},
     "output_type": "display_data"
    },
    {
     "data": {
      "image/png": "[encoded data removed]",
      "text/plain": [
       "<Figure size 432x288 with 1 Axes>"
      ]
     },
     "metadata": {
      "needs_background": "light"
     },
     "output_type": "display_data"
    },
    {
     "name": "stdout",
     "output_type": "stream",
     "text": [
      "Percent nullable records in \u001b[1mfreetime\u001b[0m column: 0.0%\n",
      "----------------------------------------------\n",
      "\n",
      "\u001b[1mCOLUMN: GOOUT \u001b[0m\n"
     ]
    },
    {
     "data": {
      "text/plain": [
       "count    275.000000\n",
       "mean       3.083636\n",
       "std        1.075738\n",
       "min        1.000000\n",
       "25%        2.000000\n",
       "50%        3.000000\n",
       "75%        4.000000\n",
       "max        5.000000\n",
       "Name: goout, dtype: float64"
      ]
     },
     "metadata": {},
     "output_type": "display_data"
    },
    {
     "data": {
      "image/png": "[encoded data removed]",
      "text/plain": [
       "<Figure size 432x288 with 1 Axes>"
      ]
     },
     "metadata": {
      "needs_background": "light"
     },
     "output_type": "display_data"
    },
    {
     "name": "stdout",
     "output_type": "stream",
     "text": [
      "Percent nullable records in \u001b[1mgoout\u001b[0m column: 0.0%\n",
      "----------------------------------------------\n",
      "\n",
      "\u001b[1mCOLUMN: HEALTH \u001b[0m\n"
     ]
    },
    {
     "data": {
      "text/plain": [
       "count    275.000000\n",
       "mean       3.607273\n",
       "std        1.366419\n",
       "min        1.000000\n",
       "25%        3.000000\n",
       "50%        4.000000\n",
       "75%        5.000000\n",
       "max        5.000000\n",
       "Name: health, dtype: float64"
      ]
     },
     "metadata": {},
     "output_type": "display_data"
    },
    {
     "data": {
      "image/png": "[encoded data removed]",
      "text/plain": [
       "<Figure size 432x288 with 1 Axes>"
      ]
     },
     "metadata": {
      "needs_background": "light"
     },
     "output_type": "display_data"
    },
    {
     "name": "stdout",
     "output_type": "stream",
     "text": [
      "Percent nullable records in \u001b[1mhealth\u001b[0m column: 0.0%\n",
      "----------------------------------------------\n",
      "\n",
      "\u001b[1mCOLUMN: ABSENCES \u001b[0m\n"
     ]
    },
    {
     "data": {
      "text/plain": [
       "count    275.000000\n",
       "mean       5.014545\n",
       "std        5.116148\n",
       "min        0.000000\n",
       "25%        2.000000\n",
       "50%        4.000000\n",
       "75%        8.000000\n",
       "max       20.000000\n",
       "Name: absences, dtype: float64"
      ]
     },
     "metadata": {},
     "output_type": "display_data"
    },
    {
     "data": {
      "image/png": "[encoded data removed]",
      "text/plain": [
       "<Figure size 432x288 with 1 Axes>"
      ]
     },
     "metadata": {
      "needs_background": "light"
     },
     "output_type": "display_data"
    },
    {
     "name": "stdout",
     "output_type": "stream",
     "text": [
      "Percent nullable records in \u001b[1mabsences\u001b[0m column: 0.0%\n",
      "----------------------------------------------\n",
      "\n",
      "\u001b[1mCOLUMN: SCORE \u001b[0m\n"
     ]
    },
    {
     "data": {
      "text/plain": [
       "count    275.000000\n",
       "mean      58.145455\n",
       "std       15.725077\n",
       "min       25.000000\n",
       "25%       50.000000\n",
       "50%       55.000000\n",
       "75%       70.000000\n",
       "max       95.000000\n",
       "Name: score, dtype: float64"
      ]
     },
     "metadata": {},
     "output_type": "display_data"
    },
    {
     "data": {
      "image/png": "[encoded data removed]",
      "text/plain": [
       "<Figure size 432x288 with 1 Axes>"
      ]
     },
     "metadata": {
      "needs_background": "light"
     },
     "output_type": "display_data"
    },
    {
     "name": "stdout",
     "output_type": "stream",
     "text": [
      "Percent nullable records in \u001b[1mscore\u001b[0m column: 0.0%\n",
      "----------------------------------------------\n",
      "\n"
     ]
    }
   ],
   "source": [
    "process_primary_data()  # Primary data analysis"
   ]
  },
  {
   "cell_type": "markdown",
   "metadata": {},
   "source": [
    "### 4. Обработка пропусков и выбросов"
   ]
  },
  {
   "cell_type": "code",
   "execution_count": 95,
   "metadata": {},
   "outputs": [
    {
     "name": "stdout",
     "output_type": "stream",
     "text": [
      "Percent nullable records in \u001b[1mschool\u001b[0m column: 0.0%\n",
      "Percent nullable records in \u001b[1msex\u001b[0m column: 0.0%\n",
      "Percent nullable records in \u001b[1mage\u001b[0m column: 0.0%\n",
      "Percent nullable records in \u001b[1maddress\u001b[0m column: 4.3%\n",
      "Percent nullable records in \u001b[1mfamsize\u001b[0m column: 6.8%\n",
      "Percent nullable records in \u001b[1mpstatus\u001b[0m column: 11.4%\n",
      "Percent nullable records in \u001b[1mmedu\u001b[0m column: 0.8%\n",
      "Percent nullable records in \u001b[1mfedu\u001b[0m column: 6.1%\n",
      "Percent nullable records in \u001b[1mmjob\u001b[0m column: 4.8%\n",
      "Percent nullable records in \u001b[1mfjob\u001b[0m column: 9.1%\n",
      "Percent nullable records in \u001b[1mreason\u001b[0m column: 4.3%\n",
      "Percent nullable records in \u001b[1mguardian\u001b[0m column: 7.8%\n",
      "Percent nullable records in \u001b[1mtraveltime\u001b[0m column: 7.1%\n",
      "Percent nullable records in \u001b[1mstudytime\u001b[0m column: 1.8%\n",
      "Percent nullable records in \u001b[1mschoolsup\u001b[0m column: 2.3%\n",
      "Percent nullable records in \u001b[1mfamsup\u001b[0m column: 9.9%\n",
      "Percent nullable records in \u001b[1mpaid\u001b[0m column: 10.1%\n",
      "Percent nullable records in \u001b[1mactivities\u001b[0m column: 3.5%\n",
      "Percent nullable records in \u001b[1mnursery\u001b[0m column: 4.1%\n",
      "Percent nullable records in \u001b[1mhigher\u001b[0m column: 5.1%\n",
      "Percent nullable records in \u001b[1minternet\u001b[0m column: 8.6%\n",
      "Percent nullable records in \u001b[1mromantic\u001b[0m column: 7.8%\n",
      "Percent nullable records in \u001b[1mfamrel\u001b[0m column: 6.8%\n",
      "Percent nullable records in \u001b[1mfreetime\u001b[0m column: 2.8%\n",
      "Percent nullable records in \u001b[1mgoout\u001b[0m column: 2.0%\n",
      "Percent nullable records in \u001b[1mhealth\u001b[0m column: 3.8%\n",
      "Percent nullable records in \u001b[1mabsences\u001b[0m column: 3.0%\n",
      "Percent nullable records in \u001b[1mscore\u001b[0m column: 1.5%\n"
     ]
    }
   ],
   "source": [
    "dataset.drop(['studytime_granular'], inplace = True, axis = 1)  # Удаляем по причине что значения коррелируют с studytime\n",
    "dataset.drop(['failures'], inplace = True, axis = 1)  # Удаляем по причине что все значения кроме 0 являются выбросами\n",
    "\n",
    "# Удаляем колонки у которых более чем 10% null значения\n",
    "for col in dataset.columns:\n",
    "     if get_null_values_percent(col) > 10:\n",
    "        dataset.drop([col], inplace = True, axis = 1)\n"
   ]
  },
  {
   "cell_type": "code",
   "execution_count": 96,
   "metadata": {},
   "outputs": [
    {
     "name": "stdout",
     "output_type": "stream",
     "text": [
      "Percent nullable records in \u001b[1mschool\u001b[0m column: 0.0%\n",
      "Percent nullable records in \u001b[1msex\u001b[0m column: 0.0%\n",
      "Percent nullable records in \u001b[1mage\u001b[0m column: 0.0%\n",
      "Percent nullable records in \u001b[1maddress\u001b[0m column: 4.3%\n",
      "\u001b[1mReplace NULL in address column is completed.\u001b[0m\n",
      "Percent nullable records in \u001b[1mfamsize\u001b[0m column: 6.8%\n",
      "\u001b[1mReplace NULL in famsize column is completed.\u001b[0m\n",
      "Percent nullable records in \u001b[1mpstatus\u001b[0m column: 11.4%\n",
      "\u001b[1mReplace NULL in pstatus column is completed.\u001b[0m\n",
      "Percent nullable records in \u001b[1mmedu\u001b[0m column: 0.8%\n",
      "\u001b[1mReplace NULL in medu column is completed.\u001b[0m\n",
      "Percent nullable records in \u001b[1mfedu\u001b[0m column: 6.1%\n",
      "\u001b[1mReplace NULL in fedu column is completed.\u001b[0m\n",
      "Percent nullable records in \u001b[1mmjob\u001b[0m column: 4.8%\n",
      "\u001b[1mReplace NULL in mjob column is completed.\u001b[0m\n",
      "Percent nullable records in \u001b[1mfjob\u001b[0m column: 9.1%\n",
      "\u001b[1mReplace NULL in fjob column is completed.\u001b[0m\n",
      "Percent nullable records in \u001b[1mreason\u001b[0m column: 4.3%\n",
      "\u001b[1mReplace NULL in reason column is completed.\u001b[0m\n",
      "Percent nullable records in \u001b[1mguardian\u001b[0m column: 7.8%\n",
      "\u001b[1mReplace NULL in guardian column is completed.\u001b[0m\n",
      "Percent nullable records in \u001b[1mtraveltime\u001b[0m column: 7.1%\n",
      "\u001b[1mReplace NULL in traveltime column is completed.\u001b[0m\n",
      "Percent nullable records in \u001b[1mstudytime\u001b[0m column: 1.8%\n",
      "\u001b[1mReplace NULL in studytime column is completed.\u001b[0m\n",
      "Percent nullable records in \u001b[1mschoolsup\u001b[0m column: 2.3%\n",
      "\u001b[1mReplace NULL in schoolsup column is completed.\u001b[0m\n",
      "Percent nullable records in \u001b[1mfamsup\u001b[0m column: 9.9%\n",
      "\u001b[1mReplace NULL in famsup column is completed.\u001b[0m\n",
      "Percent nullable records in \u001b[1mpaid\u001b[0m column: 10.1%\n",
      "\u001b[1mReplace NULL in paid column is completed.\u001b[0m\n",
      "Percent nullable records in \u001b[1mactivities\u001b[0m column: 3.5%\n",
      "\u001b[1mReplace NULL in activities column is completed.\u001b[0m\n",
      "Percent nullable records in \u001b[1mnursery\u001b[0m column: 4.1%\n",
      "\u001b[1mReplace NULL in nursery column is completed.\u001b[0m\n",
      "Percent nullable records in \u001b[1mhigher\u001b[0m column: 5.1%\n",
      "\u001b[1mReplace NULL in higher column is completed.\u001b[0m\n",
      "Percent nullable records in \u001b[1minternet\u001b[0m column: 8.6%\n",
      "\u001b[1mReplace NULL in internet column is completed.\u001b[0m\n",
      "Percent nullable records in \u001b[1mromantic\u001b[0m column: 7.8%\n",
      "\u001b[1mReplace NULL in romantic column is completed.\u001b[0m\n",
      "Percent nullable records in \u001b[1mfamrel\u001b[0m column: 6.8%\n",
      "\u001b[1mReplace NULL in famrel column is completed.\u001b[0m\n",
      "Percent nullable records in \u001b[1mfreetime\u001b[0m column: 2.8%\n",
      "\u001b[1mReplace NULL in freetime column is completed.\u001b[0m\n",
      "Percent nullable records in \u001b[1mgoout\u001b[0m column: 2.0%\n",
      "\u001b[1mReplace NULL in goout column is completed.\u001b[0m\n",
      "Percent nullable records in \u001b[1mhealth\u001b[0m column: 3.8%\n",
      "\u001b[1mReplace NULL in health column is completed.\u001b[0m\n",
      "Percent nullable records in \u001b[1mabsences\u001b[0m column: 3.0%\n",
      "\u001b[1mReplace NULL in absences column is completed.\u001b[0m\n",
      "Percent nullable records in \u001b[1mscore\u001b[0m column: 1.5%\n",
      "\u001b[1mReplace NULL in score column is completed.\u001b[0m\n",
      "\u001b[1mCOLUMN: AGE \u001b[0m\n",
      "25-й перцентиль: 16.0.\n",
      "75-й перцентиль: 18.0.\n",
      "IQR: 2.0.\n",
      "Границы выбросов: [13.0, 21.0].\n",
      "\u001b[1mКоличесто выбросов: 1.\u001b[0m\n"
     ]
    },
    {
     "data": {
      "image/png": "[encoded data removed]",
      "text/plain": [
       "<Figure size 432x288 with 1 Axes>"
      ]
     },
     "metadata": {
      "needs_background": "light"
     },
     "output_type": "display_data"
    },
    {
     "name": "stdout",
     "output_type": "stream",
     "text": [
      "\u001b[1mCOLUMN: MEDU \u001b[0m\n",
      "25-й перцентиль: 2.0.\n",
      "75-й перцентиль: 4.0.\n",
      "IQR: 2.0.\n",
      "Границы выбросов: [-1.0, 7.0].\n",
      "\u001b[1mКоличесто выбросов: 0.\u001b[0m\n"
     ]
    },
    {
     "data": {
      "image/png": "[encoded data removed]",
      "text/plain": [
       "<Figure size 432x288 with 1 Axes>"
      ]
     },
     "metadata": {
      "needs_background": "light"
     },
     "output_type": "display_data"
    },
    {
     "name": "stdout",
     "output_type": "stream",
     "text": [
      "\u001b[1mCOLUMN: FEDU \u001b[0m\n",
      "25-й перцентиль: 2.0.\n",
      "75-й перцентиль: 3.0.\n",
      "IQR: 1.0.\n",
      "Границы выбросов: [0.5, 4.5].\n",
      "\u001b[1mКоличесто выбросов: 4.\u001b[0m\n"
     ]
    },
    {
     "data": {
      "image/png": "[encoded data removed]",
      "text/plain": [
       "<Figure size 432x288 with 1 Axes>"
      ]
     },
     "metadata": {
      "needs_background": "light"
     },
     "output_type": "display_data"
    },
    {
     "name": "stdout",
     "output_type": "stream",
     "text": [
      "\u001b[1mCOLUMN: TRAVELTIME \u001b[0m\n",
      "25-й перцентиль: 1.0.\n",
      "75-й перцентиль: 2.0.\n",
      "IQR: 1.0.\n",
      "Границы выбросов: [-0.5, 3.5].\n",
      "\u001b[1mКоличесто выбросов: 8.\u001b[0m\n"
     ]
    },
    {
     "data": {
      "image/png": "[encoded data removed]",
      "text/plain": [
       "<Figure size 432x288 with 1 Axes>"
      ]
     },
     "metadata": {
      "needs_background": "light"
     },
     "output_type": "display_data"
    },
    {
     "name": "stdout",
     "output_type": "stream",
     "text": [
      "\u001b[1mCOLUMN: STUDYTIME \u001b[0m\n",
      "25-й перцентиль: 1.0.\n",
      "75-й перцентиль: 2.0.\n",
      "IQR: 1.0.\n",
      "Границы выбросов: [-0.5, 3.5].\n",
      "\u001b[1mКоличесто выбросов: 27.\u001b[0m\n"
     ]
    },
    {
     "data": {
      "image/png": "[encoded data removed]",
      "text/plain": [
       "<Figure size 432x288 with 1 Axes>"
      ]
     },
     "metadata": {
      "needs_background": "light"
     },
     "output_type": "display_data"
    },
    {
     "name": "stdout",
     "output_type": "stream",
     "text": [
      "\u001b[1mCOLUMN: FAMREL \u001b[0m\n",
      "25-й перцентиль: 4.0.\n",
      "75-й перцентиль: 5.0.\n",
      "IQR: 1.0.\n",
      "Границы выбросов: [2.5, 6.5].\n",
      "\u001b[1mКоличесто выбросов: 30.\u001b[0m\n"
     ]
    },
    {
     "data": {
      "image/png": "[encoded data removed]",
      "text/plain": [
       "<Figure size 432x288 with 1 Axes>"
      ]
     },
     "metadata": {
      "needs_background": "light"
     },
     "output_type": "display_data"
    },
    {
     "name": "stdout",
     "output_type": "stream",
     "text": [
      "\u001b[1mCOLUMN: FREETIME \u001b[0m\n",
      "25-й перцентиль: 3.0.\n",
      "75-й перцентиль: 4.0.\n",
      "IQR: 1.0.\n",
      "Границы выбросов: [1.5, 5.5].\n",
      "\u001b[1mКоличесто выбросов: 18.\u001b[0m\n"
     ]
    },
    {
     "data": {
      "image/png": "[encoded data removed]",
      "text/plain": [
       "<Figure size 432x288 with 1 Axes>"
      ]
     },
     "metadata": {
      "needs_background": "light"
     },
     "output_type": "display_data"
    },
    {
     "name": "stdout",
     "output_type": "stream",
     "text": [
      "\u001b[1mCOLUMN: GOOUT \u001b[0m\n",
      "25-й перцентиль: 2.0.\n",
      "75-й перцентиль: 4.0.\n",
      "IQR: 2.0.\n",
      "Границы выбросов: [-1.0, 7.0].\n",
      "\u001b[1mКоличесто выбросов: 0.\u001b[0m\n"
     ]
    },
    {
     "data": {
      "image/png": "[encoded data removed]",
      "text/plain": [
       "<Figure size 432x288 with 1 Axes>"
      ]
     },
     "metadata": {
      "needs_background": "light"
     },
     "output_type": "display_data"
    },
    {
     "name": "stdout",
     "output_type": "stream",
     "text": [
      "\u001b[1mCOLUMN: HEALTH \u001b[0m\n",
      "25-й перцентиль: 3.0.\n",
      "75-й перцентиль: 5.0.\n",
      "IQR: 2.0.\n",
      "Границы выбросов: [0.0, 8.0].\n",
      "\u001b[1mКоличесто выбросов: 0.\u001b[0m\n"
     ]
    },
    {
     "data": {
      "image/png": "[encoded data removed]",
      "text/plain": [
       "<Figure size 432x288 with 1 Axes>"
      ]
     },
     "metadata": {
      "needs_background": "light"
     },
     "output_type": "display_data"
    },
    {
     "name": "stdout",
     "output_type": "stream",
     "text": [
      "\u001b[1mCOLUMN: ABSENCES \u001b[0m\n",
      "25-й перцентиль: 0.0.\n",
      "75-й перцентиль: 8.0.\n",
      "IQR: 8.0.\n",
      "Границы выбросов: [-12.0, 20.0].\n",
      "\u001b[1mКоличесто выбросов: 17.\u001b[0m\n"
     ]
    },
    {
     "data": {
      "image/png": "[encoded data removed]",
      "text/plain": [
       "<Figure size 432x288 with 1 Axes>"
      ]
     },
     "metadata": {
      "needs_background": "light"
     },
     "output_type": "display_data"
    },
    {
     "name": "stdout",
     "output_type": "stream",
     "text": [
      "\u001b[1mCOLUMN: SCORE \u001b[0m\n",
      "25-й перцентиль: 40.0.\n",
      "75-й перцентиль: 70.0.\n",
      "IQR: 30.0.\n",
      "Границы выбросов: [-5.0, 115.0].\n",
      "\u001b[1mКоличесто выбросов: 0.\u001b[0m\n"
     ]
    },
    {
     "data": {
      "image/png": "[encoded data removed]",
      "text/plain": [
       "<Figure size 432x288 with 1 Axes>"
      ]
     },
     "metadata": {
      "needs_background": "light"
     },
     "output_type": "display_data"
    }
   ],
   "source": [
    "process_primary_data(replaceNa=True)  # Replace null values\n",
    "process_outliers()  # Run outlier search"
   ]
  },
  {
   "cell_type": "code",
   "execution_count": 97,
   "metadata": {},
   "outputs": [
    {
     "name": "stdout",
     "output_type": "stream",
     "text": [
      "\u001b[1mCOLUMN: AGE \u001b[0m ВЫБРОСЫ: Удалено 1 записей. Осталось 394 записей.\n",
      "\u001b[1mCOLUMN: FEDU \u001b[0m ВЫБРОСЫ: Удалено 4 записей. Осталось 390 записей.\n",
      "\u001b[1mCOLUMN: TRAVELTIME \u001b[0m ВЫБРОСЫ: Удалено 8 записей. Осталось 382 записей.\n",
      "\u001b[1mCOLUMN: STUDYTIME \u001b[0m ВЫБРОСЫ: Удалено 25 записей. Осталось 357 записей.\n",
      "\u001b[1mCOLUMN: FAMREL \u001b[0m ВЫБРОСЫ: Удалено 27 записей. Осталось 330 записей.\n",
      "\u001b[1mCOLUMN: FREETIME \u001b[0m ВЫБРОСЫ: Удалено 12 записей. Осталось 318 записей.\n",
      "\u001b[1mCOLUMN: ABSENCES \u001b[0m ВЫБРОСЫ: Удалено 13 записей. Осталось 305 записей.\n",
      "\u001b[1mCOLUMN: SCORE \u001b[0m ВЫБРОСЫ: Удалено 30 записей. Осталось 275 записей.\n"
     ]
    }
   ],
   "source": [
    "process_outliers(cleanup=True)  # Do outliers cleanup"
   ]
  },
  {
   "cell_type": "markdown",
   "metadata": {},
   "source": [
    "### 5. Визуализация распределения для количественных переменных "
   ]
  },
  {
   "cell_type": "code",
   "execution_count": 98,
   "metadata": {},
   "outputs": [
    {
     "name": "stdout",
     "output_type": "stream",
     "text": [
      "\u001b[1mCOLUMN: AGE \u001b[0m\n"
     ]
    },
    {
     "data": {
      "text/plain": [
       "count    275.000000\n",
       "mean      16.654545\n",
       "std        1.238350\n",
       "min       15.000000\n",
       "25%       16.000000\n",
       "50%       17.000000\n",
       "75%       18.000000\n",
       "max       21.000000\n",
       "Name: age, dtype: float64"
      ]
     },
     "metadata": {},
     "output_type": "display_data"
    },
    {
     "data": {
      "image/png": "[encoded data removed]",
      "text/plain": [
       "<Figure size 432x288 with 1 Axes>"
      ]
     },
     "metadata": {
      "needs_background": "light"
     },
     "output_type": "display_data"
    },
    {
     "name": "stdout",
     "output_type": "stream",
     "text": [
      "Percent nullable records in \u001b[1mage\u001b[0m column: 0.0%\n",
      "----------------------------------------------\n",
      "\n",
      "\u001b[1mCOLUMN: AGE \u001b[0m\n",
      "25-й перцентиль: 16.0.\n",
      "75-й перцентиль: 18.0.\n",
      "IQR: 2.0.\n",
      "Границы выбросов: [13.0, 21.0].\n",
      "\u001b[1mКоличесто выбросов: 0.\u001b[0m\n"
     ]
    },
    {
     "data": {
      "image/png": "[encoded data removed]",
      "text/plain": [
       "<Figure size 432x288 with 1 Axes>"
      ]
     },
     "metadata": {
      "needs_background": "light"
     },
     "output_type": "display_data"
    },
    {
     "name": "stdout",
     "output_type": "stream",
     "text": [
      "\u001b[1mCOLUMN: MEDU \u001b[0m\n"
     ]
    },
    {
     "data": {
      "text/plain": [
       "count    275.000000\n",
       "mean       2.763636\n",
       "std        1.116624\n",
       "min        0.000000\n",
       "25%        2.000000\n",
       "50%        3.000000\n",
       "75%        4.000000\n",
       "max        4.000000\n",
       "Name: medu, dtype: float64"
      ]
     },
     "metadata": {},
     "output_type": "display_data"
    },
    {
     "data": {
      "image/png": "[encoded data removed]",
      "text/plain": [
       "<Figure size 432x288 with 1 Axes>"
      ]
     },
     "metadata": {
      "needs_background": "light"
     },
     "output_type": "display_data"
    },
    {
     "name": "stdout",
     "output_type": "stream",
     "text": [
      "Percent nullable records in \u001b[1mmedu\u001b[0m column: 0.0%\n",
      "----------------------------------------------\n",
      "\n",
      "\u001b[1mCOLUMN: MEDU \u001b[0m\n",
      "25-й перцентиль: 2.0.\n",
      "75-й перцентиль: 4.0.\n",
      "IQR: 2.0.\n",
      "Границы выбросов: [-1.0, 7.0].\n",
      "\u001b[1mКоличесто выбросов: 0.\u001b[0m\n"
     ]
    },
    {
     "data": {
      "image/png": "[encoded data removed]",
      "text/plain": [
       "<Figure size 432x288 with 1 Axes>"
      ]
     },
     "metadata": {
      "needs_background": "light"
     },
     "output_type": "display_data"
    },
    {
     "name": "stdout",
     "output_type": "stream",
     "text": [
      "\u001b[1mCOLUMN: FEDU \u001b[0m\n"
     ]
    },
    {
     "data": {
      "text/plain": [
       "count    275.000000\n",
       "mean       2.560000\n",
       "std        1.066682\n",
       "min        1.000000\n",
       "25%        2.000000\n",
       "50%        3.000000\n",
       "75%        3.000000\n",
       "max        4.000000\n",
       "Name: fedu, dtype: float64"
      ]
     },
     "metadata": {},
     "output_type": "display_data"
    },
    {
     "data": {
      "image/png": "[encoded data removed]",
      "text/plain": [
       "<Figure size 432x288 with 1 Axes>"
      ]
     },
     "metadata": {
      "needs_background": "light"
     },
     "output_type": "display_data"
    },
    {
     "name": "stdout",
     "output_type": "stream",
     "text": [
      "Percent nullable records in \u001b[1mfedu\u001b[0m column: 0.0%\n",
      "----------------------------------------------\n",
      "\n",
      "\u001b[1mCOLUMN: FEDU \u001b[0m\n",
      "25-й перцентиль: 2.0.\n",
      "75-й перцентиль: 3.0.\n",
      "IQR: 1.0.\n",
      "Границы выбросов: [0.5, 4.5].\n",
      "\u001b[1mКоличесто выбросов: 0.\u001b[0m\n"
     ]
    },
    {
     "data": {
      "image/png": "[encoded data removed]",
      "text/plain": [
       "<Figure size 432x288 with 1 Axes>"
      ]
     },
     "metadata": {
      "needs_background": "light"
     },
     "output_type": "display_data"
    },
    {
     "name": "stdout",
     "output_type": "stream",
     "text": [
      "\u001b[1mCOLUMN: TRAVELTIME \u001b[0m\n"
     ]
    },
    {
     "data": {
      "text/plain": [
       "count    275.000000\n",
       "mean       1.381818\n",
       "std        0.594712\n",
       "min        1.000000\n",
       "25%        1.000000\n",
       "50%        1.000000\n",
       "75%        2.000000\n",
       "max        3.000000\n",
       "Name: traveltime, dtype: float64"
      ]
     },
     "metadata": {},
     "output_type": "display_data"
    },
    {
     "data": {
      "image/png": "[encoded data removed]",
      "text/plain": [
       "<Figure size 432x288 with 1 Axes>"
      ]
     },
     "metadata": {
      "needs_background": "light"
     },
     "output_type": "display_data"
    },
    {
     "name": "stdout",
     "output_type": "stream",
     "text": [
      "Percent nullable records in \u001b[1mtraveltime\u001b[0m column: 0.0%\n",
      "----------------------------------------------\n",
      "\n",
      "\u001b[1mCOLUMN: TRAVELTIME \u001b[0m\n",
      "25-й перцентиль: 1.0.\n",
      "75-й перцентиль: 2.0.\n",
      "IQR: 1.0.\n",
      "Границы выбросов: [-0.5, 3.5].\n",
      "\u001b[1mКоличесто выбросов: 0.\u001b[0m\n"
     ]
    },
    {
     "data": {
      "image/png": "[encoded data removed]",
      "text/plain": [
       "<Figure size 432x288 with 1 Axes>"
      ]
     },
     "metadata": {
      "needs_background": "light"
     },
     "output_type": "display_data"
    },
    {
     "name": "stdout",
     "output_type": "stream",
     "text": [
      "\u001b[1mCOLUMN: STUDYTIME \u001b[0m\n"
     ]
    },
    {
     "data": {
      "text/plain": [
       "count    275.000000\n",
       "mean       1.930909\n",
       "std        0.671873\n",
       "min        1.000000\n",
       "25%        1.000000\n",
       "50%        2.000000\n",
       "75%        2.000000\n",
       "max        3.000000\n",
       "Name: studytime, dtype: float64"
      ]
     },
     "metadata": {},
     "output_type": "display_data"
    },
    {
     "data": {
      "image/png": "[encoded data removed]",
      "text/plain": [
       "<Figure size 432x288 with 1 Axes>"
      ]
     },
     "metadata": {
      "needs_background": "light"
     },
     "output_type": "display_data"
    },
    {
     "name": "stdout",
     "output_type": "stream",
     "text": [
      "Percent nullable records in \u001b[1mstudytime\u001b[0m column: 0.0%\n",
      "----------------------------------------------\n",
      "\n",
      "\u001b[1mCOLUMN: STUDYTIME \u001b[0m\n",
      "25-й перцентиль: 1.0.\n",
      "75-й перцентиль: 2.0.\n",
      "IQR: 1.0.\n",
      "Границы выбросов: [-0.5, 3.5].\n",
      "\u001b[1mКоличесто выбросов: 0.\u001b[0m\n"
     ]
    },
    {
     "data": {
      "image/png": "[encoded data removed]",
      "text/plain": [
       "<Figure size 432x288 with 1 Axes>"
      ]
     },
     "metadata": {
      "needs_background": "light"
     },
     "output_type": "display_data"
    },
    {
     "name": "stdout",
     "output_type": "stream",
     "text": [
      "\u001b[1mCOLUMN: FAMREL \u001b[0m\n"
     ]
    },
    {
     "data": {
      "text/plain": [
       "count    275.000000\n",
       "mean       4.120000\n",
       "std        0.670113\n",
       "min        3.000000\n",
       "25%        4.000000\n",
       "50%        4.000000\n",
       "75%        5.000000\n",
       "max        5.000000\n",
       "Name: famrel, dtype: float64"
      ]
     },
     "metadata": {},
     "output_type": "display_data"
    },
    {
     "data": {
      "image/png": "[encoded data removed]",
      "text/plain": [
       "<Figure size 432x288 with 1 Axes>"
      ]
     },
     "metadata": {
      "needs_background": "light"
     },
     "output_type": "display_data"
    },
    {
     "name": "stdout",
     "output_type": "stream",
     "text": [
      "Percent nullable records in \u001b[1mfamrel\u001b[0m column: 0.0%\n",
      "----------------------------------------------\n",
      "\n",
      "\u001b[1mCOLUMN: FAMREL \u001b[0m\n",
      "25-й перцентиль: 4.0.\n",
      "75-й перцентиль: 5.0.\n",
      "IQR: 1.0.\n",
      "Границы выбросов: [2.5, 6.5].\n",
      "\u001b[1mКоличесто выбросов: 0.\u001b[0m\n"
     ]
    },
    {
     "data": {
      "image/png": "[encoded data removed]",
      "text/plain": [
       "<Figure size 432x288 with 1 Axes>"
      ]
     },
     "metadata": {
      "needs_background": "light"
     },
     "output_type": "display_data"
    },
    {
     "name": "stdout",
     "output_type": "stream",
     "text": [
      "\u001b[1mCOLUMN: FREETIME \u001b[0m\n"
     ]
    },
    {
     "data": {
      "text/plain": [
       "count    275.000000\n",
       "mean       3.367273\n",
       "std        0.891782\n",
       "min        2.000000\n",
       "25%        3.000000\n",
       "50%        3.000000\n",
       "75%        4.000000\n",
       "max        5.000000\n",
       "Name: freetime, dtype: float64"
      ]
     },
     "metadata": {},
     "output_type": "display_data"
    },
    {
     "data": {
      "image/png": "[encoded data removed]",
      "text/plain": [
       "<Figure size 432x288 with 1 Axes>"
      ]
     },
     "metadata": {
      "needs_background": "light"
     },
     "output_type": "display_data"
    },
    {
     "name": "stdout",
     "output_type": "stream",
     "text": [
      "Percent nullable records in \u001b[1mfreetime\u001b[0m column: 0.0%\n",
      "----------------------------------------------\n",
      "\n",
      "\u001b[1mCOLUMN: FREETIME \u001b[0m\n",
      "25-й перцентиль: 3.0.\n",
      "75-й перцентиль: 4.0.\n",
      "IQR: 1.0.\n",
      "Границы выбросов: [1.5, 5.5].\n",
      "\u001b[1mКоличесто выбросов: 0.\u001b[0m\n"
     ]
    },
    {
     "data": {
      "image/png": "[encoded data removed]",
      "text/plain": [
       "<Figure size 432x288 with 1 Axes>"
      ]
     },
     "metadata": {
      "needs_background": "light"
     },
     "output_type": "display_data"
    },
    {
     "name": "stdout",
     "output_type": "stream",
     "text": [
      "\u001b[1mCOLUMN: GOOUT \u001b[0m\n"
     ]
    },
    {
     "data": {
      "text/plain": [
       "count    275.000000\n",
       "mean       3.083636\n",
       "std        1.075738\n",
       "min        1.000000\n",
       "25%        2.000000\n",
       "50%        3.000000\n",
       "75%        4.000000\n",
       "max        5.000000\n",
       "Name: goout, dtype: float64"
      ]
     },
     "metadata": {},
     "output_type": "display_data"
    },
    {
     "data": {
      "image/png": "[encoded data removed]",
      "text/plain": [
       "<Figure size 432x288 with 1 Axes>"
      ]
     },
     "metadata": {
      "needs_background": "light"
     },
     "output_type": "display_data"
    },
    {
     "name": "stdout",
     "output_type": "stream",
     "text": [
      "Percent nullable records in \u001b[1mgoout\u001b[0m column: 0.0%\n",
      "----------------------------------------------\n",
      "\n",
      "\u001b[1mCOLUMN: GOOUT \u001b[0m\n",
      "25-й перцентиль: 2.0.\n",
      "75-й перцентиль: 4.0.\n",
      "IQR: 2.0.\n",
      "Границы выбросов: [-1.0, 7.0].\n",
      "\u001b[1mКоличесто выбросов: 0.\u001b[0m\n"
     ]
    },
    {
     "data": {
      "image/png": "[encoded data removed]",
      "text/plain": [
       "<Figure size 432x288 with 1 Axes>"
      ]
     },
     "metadata": {
      "needs_background": "light"
     },
     "output_type": "display_data"
    },
    {
     "name": "stdout",
     "output_type": "stream",
     "text": [
      "\u001b[1mCOLUMN: HEALTH \u001b[0m\n"
     ]
    },
    {
     "data": {
      "text/plain": [
       "count    275.000000\n",
       "mean       3.607273\n",
       "std        1.366419\n",
       "min        1.000000\n",
       "25%        3.000000\n",
       "50%        4.000000\n",
       "75%        5.000000\n",
       "max        5.000000\n",
       "Name: health, dtype: float64"
      ]
     },
     "metadata": {},
     "output_type": "display_data"
    },
    {
     "data": {
      "image/png": "[encoded data removed]",
      "text/plain": [
       "<Figure size 432x288 with 1 Axes>"
      ]
     },
     "metadata": {
      "needs_background": "light"
     },
     "output_type": "display_data"
    },
    {
     "name": "stdout",
     "output_type": "stream",
     "text": [
      "Percent nullable records in \u001b[1mhealth\u001b[0m column: 0.0%\n",
      "----------------------------------------------\n",
      "\n",
      "\u001b[1mCOLUMN: HEALTH \u001b[0m\n",
      "25-й перцентиль: 3.0.\n",
      "75-й перцентиль: 5.0.\n",
      "IQR: 2.0.\n",
      "Границы выбросов: [0.0, 8.0].\n",
      "\u001b[1mКоличесто выбросов: 0.\u001b[0m\n"
     ]
    },
    {
     "data": {
      "image/png": "[encoded data removed]",
      "text/plain": [
       "<Figure size 432x288 with 1 Axes>"
      ]
     },
     "metadata": {
      "needs_background": "light"
     },
     "output_type": "display_data"
    },
    {
     "name": "stdout",
     "output_type": "stream",
     "text": [
      "\u001b[1mCOLUMN: ABSENCES \u001b[0m\n"
     ]
    },
    {
     "data": {
      "text/plain": [
       "count    275.000000\n",
       "mean       5.014545\n",
       "std        5.116148\n",
       "min        0.000000\n",
       "25%        2.000000\n",
       "50%        4.000000\n",
       "75%        8.000000\n",
       "max       20.000000\n",
       "Name: absences, dtype: float64"
      ]
     },
     "metadata": {},
     "output_type": "display_data"
    },
    {
     "data": {
      "image/png": "[encoded data removed]",
      "text/plain": [
       "<Figure size 432x288 with 1 Axes>"
      ]
     },
     "metadata": {
      "needs_background": "light"
     },
     "output_type": "display_data"
    },
    {
     "name": "stdout",
     "output_type": "stream",
     "text": [
      "Percent nullable records in \u001b[1mabsences\u001b[0m column: 0.0%\n",
      "----------------------------------------------\n",
      "\n",
      "\u001b[1mCOLUMN: ABSENCES \u001b[0m\n",
      "25-й перцентиль: 2.0.\n",
      "75-й перцентиль: 8.0.\n",
      "IQR: 6.0.\n",
      "Границы выбросов: [-7.0, 17.0].\n",
      "\u001b[1mКоличесто выбросов: 11.\u001b[0m\n"
     ]
    },
    {
     "data": {
      "image/png": "[encoded data removed]",
      "text/plain": [
       "<Figure size 432x288 with 1 Axes>"
      ]
     },
     "metadata": {
      "needs_background": "light"
     },
     "output_type": "display_data"
    },
    {
     "name": "stdout",
     "output_type": "stream",
     "text": [
      "\u001b[1mCOLUMN: SCORE \u001b[0m\n"
     ]
    },
    {
     "data": {
      "text/plain": [
       "count    275.000000\n",
       "mean      58.145455\n",
       "std       15.725077\n",
       "min       25.000000\n",
       "25%       50.000000\n",
       "50%       55.000000\n",
       "75%       70.000000\n",
       "max       95.000000\n",
       "Name: score, dtype: float64"
      ]
     },
     "metadata": {},
     "output_type": "display_data"
    },
    {
     "data": {
      "image/png": "[encoded data removed]",
      "text/plain": [
       "<Figure size 432x288 with 1 Axes>"
      ]
     },
     "metadata": {
      "needs_background": "light"
     },
     "output_type": "display_data"
    },
    {
     "name": "stdout",
     "output_type": "stream",
     "text": [
      "Percent nullable records in \u001b[1mscore\u001b[0m column: 0.0%\n",
      "----------------------------------------------\n",
      "\n",
      "\u001b[1mCOLUMN: SCORE \u001b[0m\n",
      "25-й перцентиль: 50.0.\n",
      "75-й перцентиль: 70.0.\n",
      "IQR: 20.0.\n",
      "Границы выбросов: [20.0, 100.0].\n",
      "\u001b[1mКоличесто выбросов: 0.\u001b[0m\n"
     ]
    },
    {
     "data": {
      "image/png": "[encoded data removed]",
      "text/plain": [
       "<Figure size 432x288 with 1 Axes>"
      ]
     },
     "metadata": {
      "needs_background": "light"
     },
     "output_type": "display_data"
    }
   ],
   "source": [
    "columns = [col for col in list(dataset.columns)\n",
    "           if dataset.dtypes[col].name != 'object']\n",
    "for col in columns:\n",
    "    run_primary_data_analysis(col)\n",
    "    get_outlier(col)"
   ]
  },
  {
   "cell_type": "code",
   "execution_count": 99,
   "metadata": {},
   "outputs": [
    {
     "data": {
      "text/html": [
       "<div>\n",
       "<style scoped>\n",
       "    .dataframe tbody tr th:only-of-type {\n",
       "        vertical-align: middle;\n",
       "    }\n",
       "\n",
       "    .dataframe tbody tr th {\n",
       "        vertical-align: top;\n",
       "    }\n",
       "\n",
       "    .dataframe thead th {\n",
       "        text-align: right;\n",
       "    }\n",
       "</style>\n",
       "<table border=\"1\" class=\"dataframe\">\n",
       "  <thead>\n",
       "    <tr style=\"text-align: right;\">\n",
       "      <th></th>\n",
       "      <th>age</th>\n",
       "      <th>medu</th>\n",
       "      <th>fedu</th>\n",
       "      <th>traveltime</th>\n",
       "      <th>studytime</th>\n",
       "      <th>famrel</th>\n",
       "      <th>freetime</th>\n",
       "      <th>goout</th>\n",
       "      <th>health</th>\n",
       "      <th>absences</th>\n",
       "      <th>score</th>\n",
       "    </tr>\n",
       "  </thead>\n",
       "  <tbody>\n",
       "    <tr>\n",
       "      <th>age</th>\n",
       "      <td>1.000000</td>\n",
       "      <td>-0.180676</td>\n",
       "      <td>-0.176275</td>\n",
       "      <td>0.150021</td>\n",
       "      <td>0.089644</td>\n",
       "      <td>0.014953</td>\n",
       "      <td>0.009554</td>\n",
       "      <td>0.153273</td>\n",
       "      <td>-0.011451</td>\n",
       "      <td>0.194350</td>\n",
       "      <td>-0.133289</td>\n",
       "    </tr>\n",
       "    <tr>\n",
       "      <th>medu</th>\n",
       "      <td>-0.180676</td>\n",
       "      <td>1.000000</td>\n",
       "      <td>0.574219</td>\n",
       "      <td>-0.083437</td>\n",
       "      <td>0.114365</td>\n",
       "      <td>0.120961</td>\n",
       "      <td>0.021524</td>\n",
       "      <td>0.049939</td>\n",
       "      <td>-0.020397</td>\n",
       "      <td>0.001882</td>\n",
       "      <td>0.218129</td>\n",
       "    </tr>\n",
       "    <tr>\n",
       "      <th>fedu</th>\n",
       "      <td>-0.176275</td>\n",
       "      <td>0.574219</td>\n",
       "      <td>1.000000</td>\n",
       "      <td>-0.033368</td>\n",
       "      <td>0.049091</td>\n",
       "      <td>0.028184</td>\n",
       "      <td>-0.044352</td>\n",
       "      <td>0.019465</td>\n",
       "      <td>-0.023838</td>\n",
       "      <td>-0.036942</td>\n",
       "      <td>0.162229</td>\n",
       "    </tr>\n",
       "    <tr>\n",
       "      <th>traveltime</th>\n",
       "      <td>0.150021</td>\n",
       "      <td>-0.083437</td>\n",
       "      <td>-0.033368</td>\n",
       "      <td>1.000000</td>\n",
       "      <td>-0.107282</td>\n",
       "      <td>-0.032968</td>\n",
       "      <td>0.009884</td>\n",
       "      <td>-0.021574</td>\n",
       "      <td>-0.007921</td>\n",
       "      <td>-0.048612</td>\n",
       "      <td>-0.033278</td>\n",
       "    </tr>\n",
       "    <tr>\n",
       "      <th>studytime</th>\n",
       "      <td>0.089644</td>\n",
       "      <td>0.114365</td>\n",
       "      <td>0.049091</td>\n",
       "      <td>-0.107282</td>\n",
       "      <td>1.000000</td>\n",
       "      <td>0.091437</td>\n",
       "      <td>-0.121957</td>\n",
       "      <td>-0.002075</td>\n",
       "      <td>-0.085319</td>\n",
       "      <td>-0.114375</td>\n",
       "      <td>0.129457</td>\n",
       "    </tr>\n",
       "    <tr>\n",
       "      <th>famrel</th>\n",
       "      <td>0.014953</td>\n",
       "      <td>0.120961</td>\n",
       "      <td>0.028184</td>\n",
       "      <td>-0.032968</td>\n",
       "      <td>0.091437</td>\n",
       "      <td>1.000000</td>\n",
       "      <td>0.109197</td>\n",
       "      <td>0.051844</td>\n",
       "      <td>0.043685</td>\n",
       "      <td>-0.052673</td>\n",
       "      <td>0.085270</td>\n",
       "    </tr>\n",
       "    <tr>\n",
       "      <th>freetime</th>\n",
       "      <td>0.009554</td>\n",
       "      <td>0.021524</td>\n",
       "      <td>-0.044352</td>\n",
       "      <td>0.009884</td>\n",
       "      <td>-0.121957</td>\n",
       "      <td>0.109197</td>\n",
       "      <td>1.000000</td>\n",
       "      <td>0.169496</td>\n",
       "      <td>0.025954</td>\n",
       "      <td>0.123613</td>\n",
       "      <td>-0.011110</td>\n",
       "    </tr>\n",
       "    <tr>\n",
       "      <th>goout</th>\n",
       "      <td>0.153273</td>\n",
       "      <td>0.049939</td>\n",
       "      <td>0.019465</td>\n",
       "      <td>-0.021574</td>\n",
       "      <td>-0.002075</td>\n",
       "      <td>0.051844</td>\n",
       "      <td>0.169496</td>\n",
       "      <td>1.000000</td>\n",
       "      <td>0.007530</td>\n",
       "      <td>0.121131</td>\n",
       "      <td>-0.146137</td>\n",
       "    </tr>\n",
       "    <tr>\n",
       "      <th>health</th>\n",
       "      <td>-0.011451</td>\n",
       "      <td>-0.020397</td>\n",
       "      <td>-0.023838</td>\n",
       "      <td>-0.007921</td>\n",
       "      <td>-0.085319</td>\n",
       "      <td>0.043685</td>\n",
       "      <td>0.025954</td>\n",
       "      <td>0.007530</td>\n",
       "      <td>1.000000</td>\n",
       "      <td>0.014916</td>\n",
       "      <td>-0.067991</td>\n",
       "    </tr>\n",
       "    <tr>\n",
       "      <th>absences</th>\n",
       "      <td>0.194350</td>\n",
       "      <td>0.001882</td>\n",
       "      <td>-0.036942</td>\n",
       "      <td>-0.048612</td>\n",
       "      <td>-0.114375</td>\n",
       "      <td>-0.052673</td>\n",
       "      <td>0.123613</td>\n",
       "      <td>0.121131</td>\n",
       "      <td>0.014916</td>\n",
       "      <td>1.000000</td>\n",
       "      <td>-0.202668</td>\n",
       "    </tr>\n",
       "    <tr>\n",
       "      <th>score</th>\n",
       "      <td>-0.133289</td>\n",
       "      <td>0.218129</td>\n",
       "      <td>0.162229</td>\n",
       "      <td>-0.033278</td>\n",
       "      <td>0.129457</td>\n",
       "      <td>0.085270</td>\n",
       "      <td>-0.011110</td>\n",
       "      <td>-0.146137</td>\n",
       "      <td>-0.067991</td>\n",
       "      <td>-0.202668</td>\n",
       "      <td>1.000000</td>\n",
       "    </tr>\n",
       "  </tbody>\n",
       "</table>\n",
       "</div>"
      ],
      "text/plain": [
       "                 age      medu      fedu  traveltime  studytime    famrel  \\\n",
       "age         1.000000 -0.180676 -0.176275    0.150021   0.089644  0.014953   \n",
       "medu       -0.180676  1.000000  0.574219   -0.083437   0.114365  0.120961   \n",
       "fedu       -0.176275  0.574219  1.000000   -0.033368   0.049091  0.028184   \n",
       "traveltime  0.150021 -0.083437 -0.033368    1.000000  -0.107282 -0.032968   \n",
       "studytime   0.089644  0.114365  0.049091   -0.107282   1.000000  0.091437   \n",
       "famrel      0.014953  0.120961  0.028184   -0.032968   0.091437  1.000000   \n",
       "freetime    0.009554  0.021524 -0.044352    0.009884  -0.121957  0.109197   \n",
       "goout       0.153273  0.049939  0.019465   -0.021574  -0.002075  0.051844   \n",
       "health     -0.011451 -0.020397 -0.023838   -0.007921  -0.085319  0.043685   \n",
       "absences    0.194350  0.001882 -0.036942   -0.048612  -0.114375 -0.052673   \n",
       "score      -0.133289  0.218129  0.162229   -0.033278   0.129457  0.085270   \n",
       "\n",
       "            freetime     goout    health  absences     score  \n",
       "age         0.009554  0.153273 -0.011451  0.194350 -0.133289  \n",
       "medu        0.021524  0.049939 -0.020397  0.001882  0.218129  \n",
       "fedu       -0.044352  0.019465 -0.023838 -0.036942  0.162229  \n",
       "traveltime  0.009884 -0.021574 -0.007921 -0.048612 -0.033278  \n",
       "studytime  -0.121957 -0.002075 -0.085319 -0.114375  0.129457  \n",
       "famrel      0.109197  0.051844  0.043685 -0.052673  0.085270  \n",
       "freetime    1.000000  0.169496  0.025954  0.123613 -0.011110  \n",
       "goout       0.169496  1.000000  0.007530  0.121131 -0.146137  \n",
       "health      0.025954  0.007530  1.000000  0.014916 -0.067991  \n",
       "absences    0.123613  0.121131  0.014916  1.000000 -0.202668  \n",
       "score      -0.011110 -0.146137 -0.067991 -0.202668  1.000000  "
      ]
     },
     "metadata": {},
     "output_type": "display_data"
    },
    {
     "data": {
      "text/plain": [
       "<AxesSubplot:>"
      ]
     },
     "execution_count": 99,
     "metadata": {},
     "output_type": "execute_result"
    },
    {
     "data": {
      "image/png": "[encoded data removed]",
      "text/plain": [
       "<Figure size 1152x720 with 2 Axes>"
      ]
     },
     "metadata": {
      "needs_background": "light"
     },
     "output_type": "display_data"
    }
   ],
   "source": [
    "display(dataset.corr())\n",
    "plt.figure(figsize=(16, 10))\n",
    "sns.heatmap(dataset.corr(), annot = True, cmap = 'coolwarm')"
   ]
  },
  {
   "cell_type": "markdown",
   "metadata": {},
   "source": [
    "### 6. Корреляционный анализ номинативных переменных"
   ]
  },
  {
   "cell_type": "code",
   "execution_count": 101,
   "metadata": {},
   "outputs": [
    {
     "name": "stdout",
     "output_type": "stream",
     "text": [
      "Найдены статистически значимые различия для колонки address\n",
      "Найдены статистически значимые различия для колонки schoolsup\n"
     ]
    }
   ],
   "source": [
    "columns = [col for col in list(dataset.columns)\n",
    "           if dataset.dtypes[col].name == 'object']\n",
    "for col in columns:\n",
    "    get_stat_dif(col)"
   ]
  },
  {
   "cell_type": "markdown",
   "metadata": {},
   "source": [
    "### 7. Промежуточные выводы"
   ]
  },
  {
   "cell_type": "markdown",
   "metadata": {},
   "source": [
    "1. В данных практически во всех колонках есть пустых значения, в 13 колонках более 5% пустые, в 2 колонках более 10% пустые.\n",
    "2. Выбросы найдены в 8 столбцах из 29, что составляет приблизительно 30% выборки, что позволяет сделать вывод о том, что данные не достаточно чистые.\n",
    "3. Положительная корреляция параметра studytime и score может говорить о том, что время на учёбу помимо школы положительно сказывается на баллах по госэкзамену по математике, а отрицательная кореляция freetime и score, может говорить о том, что  увеличение свободного время после школы негативно сказывается на баллах по госэкзамену по математике.\n",
    "4. Самые важные параметры, которые предлагается использовать в дальнейшем для построения модели, это address, schoolsup, freetime, traveltime, health, famrel, studytime, age, goout. "
   ]
  },
  {
   "cell_type": "markdown",
   "metadata": {},
   "source": [
    "### 8. Итоги работы: Выбор признаков для построения модели"
   ]
  },
  {
   "cell_type": "code",
   "execution_count": 105,
   "metadata": {},
   "outputs": [
    {
     "data": {
      "text/html": [
       "<div>\n",
       "<style scoped>\n",
       "    .dataframe tbody tr th:only-of-type {\n",
       "        vertical-align: middle;\n",
       "    }\n",
       "\n",
       "    .dataframe tbody tr th {\n",
       "        vertical-align: top;\n",
       "    }\n",
       "\n",
       "    .dataframe thead th {\n",
       "        text-align: right;\n",
       "    }\n",
       "</style>\n",
       "<table border=\"1\" class=\"dataframe\">\n",
       "  <thead>\n",
       "    <tr style=\"text-align: right;\">\n",
       "      <th></th>\n",
       "      <th>address</th>\n",
       "      <th>schoolsup</th>\n",
       "      <th>freetime</th>\n",
       "      <th>traveltime</th>\n",
       "      <th>health</th>\n",
       "      <th>famrel</th>\n",
       "      <th>studytime</th>\n",
       "      <th>age</th>\n",
       "      <th>goout</th>\n",
       "      <th>score</th>\n",
       "    </tr>\n",
       "  </thead>\n",
       "  <tbody>\n",
       "    <tr>\n",
       "      <th>0</th>\n",
       "      <td>U</td>\n",
       "      <td>yes</td>\n",
       "      <td>3.0</td>\n",
       "      <td>2.0</td>\n",
       "      <td>3.0</td>\n",
       "      <td>4.0</td>\n",
       "      <td>2.0</td>\n",
       "      <td>18</td>\n",
       "      <td>4.0</td>\n",
       "      <td>30.0</td>\n",
       "    </tr>\n",
       "    <tr>\n",
       "      <th>1</th>\n",
       "      <td>U</td>\n",
       "      <td>no</td>\n",
       "      <td>3.0</td>\n",
       "      <td>1.0</td>\n",
       "      <td>3.0</td>\n",
       "      <td>5.0</td>\n",
       "      <td>2.0</td>\n",
       "      <td>17</td>\n",
       "      <td>3.0</td>\n",
       "      <td>30.0</td>\n",
       "    </tr>\n",
       "    <tr>\n",
       "      <th>2</th>\n",
       "      <td>U</td>\n",
       "      <td>yes</td>\n",
       "      <td>3.0</td>\n",
       "      <td>1.0</td>\n",
       "      <td>3.0</td>\n",
       "      <td>4.0</td>\n",
       "      <td>2.0</td>\n",
       "      <td>15</td>\n",
       "      <td>2.0</td>\n",
       "      <td>50.0</td>\n",
       "    </tr>\n",
       "    <tr>\n",
       "      <th>3</th>\n",
       "      <td>U</td>\n",
       "      <td>no</td>\n",
       "      <td>2.0</td>\n",
       "      <td>1.0</td>\n",
       "      <td>5.0</td>\n",
       "      <td>3.0</td>\n",
       "      <td>3.0</td>\n",
       "      <td>15</td>\n",
       "      <td>2.0</td>\n",
       "      <td>75.0</td>\n",
       "    </tr>\n",
       "    <tr>\n",
       "      <th>4</th>\n",
       "      <td>U</td>\n",
       "      <td>no</td>\n",
       "      <td>3.0</td>\n",
       "      <td>1.0</td>\n",
       "      <td>5.0</td>\n",
       "      <td>4.0</td>\n",
       "      <td>2.0</td>\n",
       "      <td>16</td>\n",
       "      <td>2.0</td>\n",
       "      <td>50.0</td>\n",
       "    </tr>\n",
       "  </tbody>\n",
       "</table>\n",
       "</div>"
      ],
      "text/plain": [
       "  address schoolsup  freetime  traveltime  health  famrel  studytime  age  \\\n",
       "0       U       yes       3.0         2.0     3.0     4.0        2.0   18   \n",
       "1       U        no       3.0         1.0     3.0     5.0        2.0   17   \n",
       "2       U       yes       3.0         1.0     3.0     4.0        2.0   15   \n",
       "3       U        no       2.0         1.0     5.0     3.0        3.0   15   \n",
       "4       U        no       3.0         1.0     5.0     4.0        2.0   16   \n",
       "\n",
       "   goout  score  \n",
       "0    4.0   30.0  \n",
       "1    3.0   30.0  \n",
       "2    2.0   50.0  \n",
       "3    2.0   75.0  \n",
       "4    2.0   50.0  "
      ]
     },
     "execution_count": 105,
     "metadata": {},
     "output_type": "execute_result"
    }
   ],
   "source": [
    "ds_for_model = dataset.loc[:, ['address', 'schoolsup', 'freetime', 'traveltime', 'health', 'famrel', 'studytime', 'age', 'goout', 'score']]\n",
    "ds_for_model.head()"
   ]
  }
 ],
 "metadata": {
  "kernelspec": {
   "display_name": "Python 3",
   "language": "python",
   "name": "python3"
  },
  "language_info": {
   "codemirror_mode": {
    "name": "ipython",
    "version": 3
   },
   "file_extension": ".py",
   "mimetype": "text/x-python",
   "name": "python",
   "nbconvert_exporter": "python",
   "pygments_lexer": "ipython3",
   "version": "3.8.8"
  }
 },
 "nbformat": 4,
 "nbformat_minor": 4
}
